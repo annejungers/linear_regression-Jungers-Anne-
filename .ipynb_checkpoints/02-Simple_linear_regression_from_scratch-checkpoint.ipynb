{
 "cells": [
  {
   "cell_type": "markdown",
   "metadata": {
    "id": "oGRCdv2_63Fm"
   },
   "source": [
    "# Linear regression\n",
    "\n",
    "Now that we've created our first learning machine model, let's see how it works under the hood."
   ]
  },
  {
   "cell_type": "markdown",
   "metadata": {
    "id": "4IHjwpyJmYz0"
   },
   "source": [
    "## How does it work?\n",
    "Here comes a part that some of you fear: Mathematics!    \n",
    "\n",
    "But don't worry, you'll see that it's not that complicated.\n",
    "\n",
    "### How to calculate the y-axis from the x-axis?"
   ]
  },
  {
   "cell_type": "markdown",
   "metadata": {
    "id": "rPLnFMBxs4C9"
   },
   "source": [
    "A linear model is in fact based on a simple [affine function.](https://fr.wikipedia.org/wiki/Fonction_affine) !"
   ]
  },
  {
   "cell_type": "markdown",
   "metadata": {
    "id": "2XTFIZfapioo"
   },
   "source": [
    "$$f(x) = ax + b$$\n",
    "or ...\n",
    "$$y = f(x) = ax + b$$\n",
    "or..."
   ]
  },
  {
   "cell_type": "markdown",
   "metadata": {},
   "source": [
    "```py\n",
    "y = a*x + b\n",
    "```"
   ]
  },
  {
   "cell_type": "markdown",
   "metadata": {},
   "source": [
    "**Exercise :** Create a function ``f`` which receives as a parameter the variables ``x``,``a`` and ``b`` and returns ``y``"
   ]
  },
  {
   "cell_type": "code",
   "execution_count": 1,
   "metadata": {},
   "outputs": [
    {
     "data": {
      "text/plain": [
       "9"
      ]
     },
     "execution_count": 1,
     "metadata": {},
     "output_type": "execute_result"
    }
   ],
   "source": [
    "#y = f(x) = ax + b\n",
    "def f(x, a, b):\n",
    "    y = a*x +b\n",
    "    return y\n",
    "\n",
    "f(1, 4, 5)"
   ]
  },
  {
   "cell_type": "markdown",
   "metadata": {},
   "source": [
    "This function will allow us to create a straight line that passes through all the points as well as possible. For the moment, we do not know the value of parameters a and b, so it is impossible to draw a good straight line on the scatter plot, unless we choose parameters at random. And that is what we are going to do."
   ]
  },
  {
   "cell_type": "markdown",
   "metadata": {
    "id": "nl6jA7JTdoO8"
   },
   "source": [
    "\n",
    "The linear model with random parameters would look something like this: "
   ]
  },
  {
   "cell_type": "markdown",
   "metadata": {
    "id": "a6Va6jerdvjC"
   },
   "source": [
    "![image.png](./assets/random_bias.png)\n"
   ]
  },
  {
   "cell_type": "markdown",
   "metadata": {
    "id": "2x4DbSIbeQNA"
   },
   "source": [
    "But we want to achieve this result:"
   ]
  },
  {
   "cell_type": "markdown",
   "metadata": {
    "id": "w7hNlrnOezsy"
   },
   "source": [
    "![](./assets/trained_bias.png)"
   ]
  },
  {
   "cell_type": "markdown",
   "metadata": {
    "id": "mKo1rgh_fA7O"
   },
   "source": [
    "And it will be the role of the machine to learn how to find these values (a and b) by minimizing the cost function that we will see in detail in the next chapter.\n",
    "\n",
    "Before we do that, we need to look at the small problem we have with this method. If we execute the function as is, we would have to make a loop for each element $x^{i}$ of our dataset. This can be very expensive in terms of machine resources. If your dataset is very large, it will take a lot of time to train your model. \n",
    "\n",
    "To solve this problem, it is customary to use something you are beginning to know, matrices! \n",
    "\n",
    "The matrices allow us to perform the function only once on our entire dataset. \n",
    "\n",
    "The matrix writing of $f(x)=ax+b$ is written like this:\n",
    "$$ F = X . \\theta$$\n",
    "\n",
    "As these are matrices that contain all the data, by convention, we put them in uppercase.\n",
    "\n",
    "The variable $F$ will contain a matrix with the set of predictions of $x^{(i)}$. \n",
    "\n",
    "$$ \n",
    "F \\\\\n",
    "\\begin{bmatrix}\n",
    "f(x^{(1)})\\\\\n",
    "f(x^{(2)})\\\\\n",
    "f(x^{(3)})\\\\\n",
    "... \\\\\n",
    "f(x^{(m)})\\\\\n",
    "\\end{bmatrix}\n",
    "$$"
   ]
  },
  {
   "cell_type": "markdown",
   "metadata": {},
   "source": [
    "The variable $\\theta$ (pronounced theta) will contain a vector with the values $a$ and $b$."
   ]
  },
  {
   "cell_type": "markdown",
   "metadata": {},
   "source": [
    "$$\n",
    "\\theta \\\\\n",
    "\\begin{bmatrix}\n",
    "a \\\\\n",
    "b \\\\\n",
    "\\end{bmatrix}\n",
    "$$"
   ]
  },
  {
   "cell_type": "markdown",
   "metadata": {},
   "source": [
    "The variable $X$ will contain a matrix with two dimensions, one dimension with the value of $x^{(i)}$ and another dimension with 1's everywhere.  Why? Because we have to multiply our X and theta matrices.\n",
    "$$ \n",
    "\\begin{equation*}\n",
    "\\begin{bmatrix}\n",
    "x^{(1)} && 1\\\\\n",
    "x^{(2)} && 1\\\\\n",
    "x^{(3)} && 1\\\\\n",
    "... \\\\\n",
    "x^{(m)} && 1\\\\\n",
    "\\end{bmatrix}\n",
    ".\n",
    "\\begin{bmatrix}\n",
    "a \\\\\n",
    "b \\\\\n",
    "\\end{bmatrix}\n",
    "\\end{equation*}\n",
    "$$\n",
    "\n",
    "![](./assets/dot_mat.jpg)"
   ]
  },
  {
   "cell_type": "markdown",
   "metadata": {},
   "source": [
    "Which amounts to writing this: \n",
    "$$ y^{(1)} = x^{(1)}* a + 1 * b$$\n",
    "\n",
    "And if we simplify:\n",
    "$$ y^{(1)} = ax^{(1)} + b$$\n",
    "\n",
    "\n",
    "So we are back to our original function.\n"
   ]
  },
  {
   "cell_type": "markdown",
   "metadata": {},
   "source": [
    "**Exercise :**\n",
    "1. Create a variable ``X`` which contains a matrix (30,2) with a column filled with values of our dataframe and then another one with 1's. \n",
    "2. Create the ``theta`` variable which contains a vector with 2 random values.\n",
    "3. Create a variable ``F`` which contains a multiplication of the matrix X with the theta vector."
   ]
  },
  {
   "cell_type": "code",
   "execution_count": 2,
   "metadata": {},
   "outputs": [
    {
     "name": "stdout",
     "output_type": "stream",
     "text": [
      "[[0.23339269]\n",
      " [0.23383228]\n",
      " [0.23427187]\n",
      " [0.23537085]\n",
      " [0.23581044]\n",
      " [0.23734901]\n",
      " [0.23756881]\n",
      " [0.2380084 ]\n",
      " [0.2380084 ]\n",
      " [0.23910738]\n",
      " [0.23954697]\n",
      " [0.23976676]\n",
      " [0.23976676]\n",
      " [0.23998656]\n",
      " [0.24086574]\n",
      " [0.24174493]\n",
      " [0.24218452]\n",
      " [0.24262411]\n",
      " [0.24394288]\n",
      " [0.24416268]\n",
      " [0.24592104]\n",
      " [0.24658043]\n",
      " [0.2483388 ]\n",
      " [0.24899818]\n",
      " [0.25009716]\n",
      " [0.25075655]\n",
      " [0.25185553]\n",
      " [0.25207532]\n",
      " [0.25361389]\n",
      " [0.25405349]]\n"
     ]
    }
   ],
   "source": [
    "import numpy as np\n",
    "import pandas as pd\n",
    "\n",
    "df = pd.read_csv(\"./data/salary_data.csv\")\n",
    "\n",
    "X = np.empty([30,2])\n",
    "X[:,0] = df.iloc[:, 0].values\n",
    "X[:,1] = 1    #filling another column with 1's\n",
    "\n",
    "\n",
    "theta = np.random.normal(size=2).reshape(2,1)\n",
    "F = np.dot(X, theta)\n",
    "print(F)\n",
    "\n",
    "#X = X.reshape(30,2)\n",
    "#X = np.arange(30, 2)\n",
    "#theta = np.random.random((a,b)).reshape\n",
    "#dot function numpy\n",
    "#F = X * theta # there is a function in numpy to do this"
   ]
  },
  {
   "cell_type": "markdown",
   "metadata": {},
   "source": [
    "**Exercise :** Create a ``model`` function that receives as parameter ``X`` and ``theta``.  The function must return ``F``. "
   ]
  },
  {
   "cell_type": "code",
   "execution_count": 5,
   "metadata": {},
   "outputs": [],
   "source": [
    "def model(X, theta):\n",
    "    F = X.dot(theta)\n",
    "    return F\n",
    "\n",
    "# .dot() multiplies two matrix "
   ]
  },
  {
   "cell_type": "markdown",
   "metadata": {},
   "source": [
    "**Exercise :** Create a ``y_pred`` variable and use your `model` function with ``X, theta``"
   ]
  },
  {
   "cell_type": "code",
   "execution_count": 6,
   "metadata": {},
   "outputs": [],
   "source": [
    "y_pred = np.dot(X, theta)\n",
    "\n"
   ]
  },
  {
   "cell_type": "markdown",
   "metadata": {},
   "source": [
    "Now we know how to apply our model to our entire dataset. Now we have to know how to find the right values for a and b. For that we will have to calculate the average of all our errors with a cost function."
   ]
  },
  {
   "cell_type": "markdown",
   "metadata": {
    "id": "XKaQ28Hafn_h"
   },
   "source": [
    "### Cost function"
   ]
  },
  {
   "cell_type": "markdown",
   "metadata": {
    "id": "VRBuUaU2ftck"
   },
   "source": [
    "The cost function allows us to evaluate the performance of our model by measuring the errors between the prediction and the actual value. The question we ask ourselves is: How to measure these errors?\n",
    "\n",
    "Imagine that you have 4 years of experience and that you spend 90000€ per year. Your Machine Learning model predicts that this salary is worth €110000. You can conclude that your model therefore makes an error of 90000 - 110000 = -20000 €.\n",
    "\n",
    "Thus, you could say that to measure your errors, you have to calculate the difference $f(x)-y$. However, if your prediction f(x) is less than y, then this error is negative (as in the example above), and it is not very practical to minimize this function.\n",
    "\n",
    "So, to measure the errors between the $f(x)$ predictions and the y-values of the Dataset, we calculate the square of the difference: $(f(x)-y)^2$. This, by the way, is what is called the Euclidean norm, which represents the direct distance between $f(x)$ and y in Euclidean geometry.\n"
   ]
  },
  {
   "cell_type": "markdown",
   "metadata": {
    "id": "yJFTEvD8wb7b"
   },
   "source": [
    "\n",
    "\n",
    "![image.png](./assets/eucli.JPG)"
   ]
  },
  {
   "cell_type": "markdown",
   "metadata": {
    "id": "xa-c_X4xt2vO"
   },
   "source": [
    "But this is not enough. Indeed, we have the error of a single example. But we must have the average of all the errors of all the points. \n",
    "\n",
    "We could write it like this: \n",
    "\n",
    "\n",
    "\n",
    "$$MSE(a,b) = {\\dfrac{(f(x^{(1)})- y^{(1)})^2 + (f(x^{(2)})- y^{(2)})^2  + ... +(f(x^{(m)})- y^{(m)})^2}{m}}$$"
   ]
  },
  {
   "cell_type": "markdown",
   "metadata": {
    "id": "1GUWy24S5b27"
   },
   "source": [
    "Why $MSE$? Because this function is called **Mean Squared Error**"
   ]
  },
  {
   "cell_type": "markdown",
   "metadata": {
    "id": "ImWIompHxm2Q"
   },
   "source": [
    "By convention this function is written in the following way, adding a coefficient $\\frac{1}{2}$ to simplify a derivative calculation that will come later.\n",
    "\n",
    "$$ MSE(a, b) = {\\dfrac{1}{2m}} \\sum _ {i=1}^m (f(x^{(i)}) - y^{(i)})^2$$\n",
    "\n",
    "Or\n",
    "\n",
    "$$ MSE(a, b) = {\\dfrac{1}{2m}} \\sum _ {i=1}^m (ax^{(i)} +b - y^{(i)})^2$$\n"
   ]
  },
  {
   "cell_type": "markdown",
   "metadata": {},
   "source": [
    "But as we work with matrices, we also have to transcribe our formula which becomes : \n",
    "\n",
    "$$MSE(\\theta) = \\frac {1}{2m}  \\sum _ {i=1}^m (X . \\theta - y)^2$$"
   ]
  },
  {
   "cell_type": "markdown",
   "metadata": {},
   "source": [
    "or \n",
    "\n",
    "```py\n",
    "MSE = 1/(2*m) * sum((X * theta - y)**2)\n",
    "```"
   ]
  },
  {
   "cell_type": "markdown",
   "metadata": {
    "id": "47zckFxMQiVs"
   },
   "source": [
    "**Exercise :** Create a ``MSE`` function that receives as parameter ``X, y and theta`` using the example above."
   ]
  },
  {
   "cell_type": "code",
   "execution_count": 7,
   "metadata": {},
   "outputs": [
    {
     "name": "stdout",
     "output_type": "stream",
     "text": [
      "[3.25145903e+09]\n"
     ]
    }
   ],
   "source": [
    "def MSE (X, y, theta):\n",
    "    mse = 1/(2*m) * sum((X * theta - y)** 2)\n",
    "    return mse\n",
    "\n",
    "#leonor solution\n",
    "m = len(df)\n",
    "\n",
    "y = np.empty([30,1])\n",
    "y[:,0] = df.iloc[:, -1].values.T\n",
    "\n",
    "MSE = 1/(2*m) * sum((y_pred - y)**2)\n",
    "print(MSE)"
   ]
  },
  {
   "cell_type": "code",
   "execution_count": null,
   "metadata": {
    "id": "CRRlqkpmQdk7"
   },
   "outputs": [],
   "source": []
  },
  {
   "cell_type": "markdown",
   "metadata": {
    "id": "s_2cfr2DOB9X"
   },
   "source": [
    "### Minimize the cost function.\n",
    "\n",
    "\n",
    "\n",
    "If the cost function is omitted with respect to the parameter, it looks something like this:"
   ]
  },
  {
   "cell_type": "markdown",
   "metadata": {
    "id": "ASRXsJyO__ic"
   },
   "source": [
    "![image.png](./assets/convexe.png)"
   ]
  },
  {
   "cell_type": "markdown",
   "metadata": {
    "id": "55-cHhR_DBNI"
   },
   "source": [
    "The aim is therefore to reach the lowest point of the curve, i.e. the lowest possible sum of errors. "
   ]
  },
  {
   "cell_type": "markdown",
   "metadata": {
    "id": "cqyzIhPKDMc_"
   },
   "source": [
    "![image.png](./assets/gradient_descent.png)"
   ]
  },
  {
   "cell_type": "markdown",
   "metadata": {},
   "source": [
    "To do this, there are several function minimization algorithms, such as the least squares method or **gradient descent**. We will focus here on gradient descent because it is one of the most widely used."
   ]
  },
  {
   "cell_type": "markdown",
   "metadata": {
    "id": "7gmDtf6l-f7T"
   },
   "source": [
    "Gradient descent is an iterative algorithm which therefore proceeds by progressive improvements. For a linear problem, this algorithm needs to have two hyper-parameters :\n",
    "\n",
    "**1. The number of iterations :** As its name indicates, this is the parameter that will determine the number of iterations.\n",
    "\n",
    "**2. The learning rate :** This is the length of the step between each iteration. "
   ]
  },
  {
   "cell_type": "markdown",
   "metadata": {
    "id": "KMJ0V9J6HQZa"
   },
   "source": [
    "![learningrate](./assets/gradient_descent_1.gif)"
   ]
  },
  {
   "cell_type": "markdown",
   "metadata": {},
   "source": [
    "It is important to clearly define the learning rate. If you set a high value, the algorithm will be faster, but you risk never reaching the lowest point of the curve, the steps being too big. Our model will never be able to work since it cannot find the minimum of the cost function."
   ]
  },
  {
   "cell_type": "markdown",
   "metadata": {
    "id": "TASxiF6zHnq0"
   },
   "source": [
    "![](./assets/gradient_descent_2.gif)"
   ]
  },
  {
   "cell_type": "markdown",
   "metadata": {},
   "source": [
    "Conversely, if you set a small value, then the algorithm will find the lowest point of the curve, but it will be slower."
   ]
  },
  {
   "cell_type": "markdown",
   "metadata": {
    "id": "9on9fx_9HhYb"
   },
   "source": [
    "![learning rate](./assets/gradient_descent_3.gif)"
   ]
  },
  {
   "cell_type": "markdown",
   "metadata": {},
   "source": [
    "At each iteration, we will have to calculate the regression slope. \n",
    "![](./assets/derivative.gif)"
   ]
  },
  {
   "cell_type": "markdown",
   "metadata": {},
   "source": [
    "And in mathematics we calculate a slope with a [partial derivative](https://en.wikipedia.org/wiki/Partial_derivative#:~:text=In%20mathematics%2C%20a%20partial%20derivative,vector%20calculus%20and%20differential%20geometry.). The symbol used to denote partial derivatives is $\\partial$. "
   ]
  },
  {
   "cell_type": "markdown",
   "metadata": {},
   "source": [
    "$$ \\frac {\\partial MSE(\\theta) }{\\partial \\theta}  = \\frac {1}{m} X^T.(X.\\theta - y)$$\n",
    "\n",
    "The $X^T$ is to transpose the matrix, just like in numpy."
   ]
  },
  {
   "cell_type": "markdown",
   "metadata": {},
   "source": [
    "You could translate this into code like this:\n",
    "\n",
    "```py\n",
    "1/m * X.T.dot(model(X, theta) - y)\n",
    "```\n",
    "\n"
   ]
  },
  {
   "cell_type": "code",
   "execution_count": 8,
   "metadata": {},
   "outputs": [],
   "source": [
    "def grad(X, y, theta):\n",
    "    m = len(y)\n",
    "    return 1/m * X.T.dot(model(X, theta) - y)"
   ]
  },
  {
   "cell_type": "markdown",
   "metadata": {},
   "source": [
    "We still have to write the gradient descent. \n",
    "\n",
    "$$\\theta = \\theta - a .  \\frac {\\partial MSE(\\theta) }{\\partial \\theta}$$\n",
    "\n",
    "The variable $a$ is the learning rate. So at each iteration, we redefine theta. We do : ``theta`` - ``learning_rate`` multiplied by the partial derivative of mean squared error. You could translate this into code like this:"
   ]
  },
  {
   "cell_type": "markdown",
   "metadata": {},
   "source": [
    "```py\n",
    "theta = theta - learning_rate * grad(X, y, theta)\n",
    "```"
   ]
  },
  {
   "cell_type": "markdown",
   "metadata": {},
   "source": [
    "**Exercise :**\n",
    "1. Create a `gradient_descent` function that receives as parameter ``X``, ``y``, ``theta``, ``learning_rate``, ``n_iterations``\n",
    "2. In the function, create a variable `cost_history` with a matrix filled with 0 and which has a length of `n_iterations`. We will use it to display the histogram of the model learning process.\n",
    "3. Create a loop that iterates up to ``n_iterations``\n",
    "4. In the loop, update ``theta`` with the formula of the gradient descent (The example above) \n",
    "5. In the loop, update ``cost_history[i]`` with the values of ``MSE(X,y,theta)``\n",
    "6. return `theta` and `cost_history`"
   ]
  },
  {
   "cell_type": "code",
   "execution_count": 20,
   "metadata": {},
   "outputs": [],
   "source": [
    "def mse(X, y, theta):\n",
    "    return 1/(2*m)*sum((np.dot(X, theta) - y)**2)  \n",
    "                       \n",
    "    # or return 1/(2*m)*sum((np.dot(X, theta) - y)**2)  ??\n",
    "\n",
    "def gradient_descent(X, y, theta, learning_rate, n_iterations):\n",
    "    cost_history = np.zeros(n_iterations)\n",
    "    \n",
    "    for i in range(n_iterations):\n",
    "        theta = theta - learning_rate * grad(X, y, theta)\n",
    "        cost_history[i] = mse(X, y, theta)\n",
    "        \n",
    "    return (theta, cost_history)\n",
    "\n",
    "        "
   ]
  },
  {
   "cell_type": "markdown",
   "metadata": {},
   "source": [
    "### Train your model\n",
    "\n",
    "Now that we know which algorithm is used to minimize the cost function, we train our model.   \n",
    "We define a number of iterations, and a learning step $\\alpha$, and here we go!\n",
    "\n",
    "Once the model is trained, we observe the results compared to our dataset.\n",
    "\n",
    "**Exercise :** Create variables `n_iterations` and `learning_rate`. \n",
    "The learning rate and the n_iterations are defined by looking a little. You have to try several things, there is no magic number. However, starting with 1000 iterations and a learning_rate of 0.01 is a good basis to start training."
   ]
  },
  {
   "cell_type": "code",
   "execution_count": 21,
   "metadata": {},
   "outputs": [],
   "source": [
    "n_iterations = 1000\n",
    "learning_rate = 0.01"
   ]
  },
  {
   "cell_type": "markdown",
   "metadata": {},
   "source": [
    "**Exercise:** Create variables ``theta_final``, ``cost history`` and instance ``gradient_descent()``."
   ]
  },
  {
   "cell_type": "code",
   "execution_count": 22,
   "metadata": {},
   "outputs": [
    {
     "data": {
      "text/plain": [
       "(array([[ 9876.10872288],\n",
       "        [22920.5127056 ]]),\n",
       " array([1.34460440e+09, 5.82929703e+08, 2.78593566e+08, 1.56900348e+08,\n",
       "        1.08147874e+08, 8.85255897e+07, 8.05373526e+07, 7.71959190e+07,\n",
       "        7.57108675e+07, 7.49678153e+07, 7.45217210e+07, 7.41948508e+07,\n",
       "        7.39162221e+07, 7.36574851e+07, 7.34073151e+07, 7.31611870e+07,\n",
       "        7.29172910e+07, 7.26749017e+07, 7.24337268e+07, 7.21936471e+07,\n",
       "        7.19546123e+07, 7.17165997e+07, 7.14795978e+07, 7.12435994e+07,\n",
       "        7.10085991e+07, 7.07745922e+07, 7.05415744e+07, 7.03095413e+07,\n",
       "        7.00784889e+07, 6.98484128e+07, 6.96193091e+07, 6.93911736e+07,\n",
       "        6.91640021e+07, 6.89377907e+07, 6.87125353e+07, 6.84882318e+07,\n",
       "        6.82648762e+07, 6.80424644e+07, 6.78209927e+07, 6.76004568e+07,\n",
       "        6.73808529e+07, 6.71621771e+07, 6.69444254e+07, 6.67275939e+07,\n",
       "        6.65116788e+07, 6.62966761e+07, 6.60825820e+07, 6.58693926e+07,\n",
       "        6.56571042e+07, 6.54457130e+07, 6.52352150e+07, 6.50256067e+07,\n",
       "        6.48168841e+07, 6.46090436e+07, 6.44020814e+07, 6.41959939e+07,\n",
       "        6.39907773e+07, 6.37864279e+07, 6.35829421e+07, 6.33803162e+07,\n",
       "        6.31785467e+07, 6.29776298e+07, 6.27775620e+07, 6.25783396e+07,\n",
       "        6.23799592e+07, 6.21824172e+07, 6.19857099e+07, 6.17898339e+07,\n",
       "        6.15947857e+07, 6.14005618e+07, 6.12071587e+07, 6.10145729e+07,\n",
       "        6.08228009e+07, 6.06318394e+07, 6.04416849e+07, 6.02523340e+07,\n",
       "        6.00637833e+07, 5.98760294e+07, 5.96890689e+07, 5.95028985e+07,\n",
       "        5.93175149e+07, 5.91329147e+07, 5.89490947e+07, 5.87660514e+07,\n",
       "        5.85837817e+07, 5.84022823e+07, 5.82215499e+07, 5.80415813e+07,\n",
       "        5.78623732e+07, 5.76839224e+07, 5.75062258e+07, 5.73292801e+07,\n",
       "        5.71530822e+07, 5.69776289e+07, 5.68029171e+07, 5.66289436e+07,\n",
       "        5.64557053e+07, 5.62831991e+07, 5.61114220e+07, 5.59403707e+07,\n",
       "        5.57700423e+07, 5.56004338e+07, 5.54315420e+07, 5.52633639e+07,\n",
       "        5.50958965e+07, 5.49291369e+07, 5.47630820e+07, 5.45977288e+07,\n",
       "        5.44330745e+07, 5.42691159e+07, 5.41058503e+07, 5.39432746e+07,\n",
       "        5.37813859e+07, 5.36201814e+07, 5.34596581e+07, 5.32998132e+07,\n",
       "        5.31406438e+07, 5.29821471e+07, 5.28243202e+07, 5.26671602e+07,\n",
       "        5.25106644e+07, 5.23548300e+07, 5.21996541e+07, 5.20451340e+07,\n",
       "        5.18912668e+07, 5.17380500e+07, 5.15854806e+07, 5.14335560e+07,\n",
       "        5.12822734e+07, 5.11316301e+07, 5.09816234e+07, 5.08322507e+07,\n",
       "        5.06835092e+07, 5.05353963e+07, 5.03879094e+07, 5.02410457e+07,\n",
       "        5.00948026e+07, 4.99491776e+07, 4.98041680e+07, 4.96597712e+07,\n",
       "        4.95159846e+07, 4.93728057e+07, 4.92302318e+07, 4.90882605e+07,\n",
       "        4.89468891e+07, 4.88061151e+07, 4.86659361e+07, 4.85263495e+07,\n",
       "        4.83873527e+07, 4.82489434e+07, 4.81111189e+07, 4.79738770e+07,\n",
       "        4.78372150e+07, 4.77011305e+07, 4.75656211e+07, 4.74306844e+07,\n",
       "        4.72963180e+07, 4.71625193e+07, 4.70292861e+07, 4.68966160e+07,\n",
       "        4.67645065e+07, 4.66329553e+07, 4.65019600e+07, 4.63715183e+07,\n",
       "        4.62416279e+07, 4.61122864e+07, 4.59834915e+07, 4.58552408e+07,\n",
       "        4.57275322e+07, 4.56003632e+07, 4.54737317e+07, 4.53476353e+07,\n",
       "        4.52220718e+07, 4.50970389e+07, 4.49725344e+07, 4.48485561e+07,\n",
       "        4.47251017e+07, 4.46021690e+07, 4.44797558e+07, 4.43578600e+07,\n",
       "        4.42364793e+07, 4.41156115e+07, 4.39952545e+07, 4.38754062e+07,\n",
       "        4.37560643e+07, 4.36372268e+07, 4.35188915e+07, 4.34010562e+07,\n",
       "        4.32837190e+07, 4.31668776e+07, 4.30505299e+07, 4.29346740e+07,\n",
       "        4.28193076e+07, 4.27044288e+07, 4.25900355e+07, 4.24761256e+07,\n",
       "        4.23626971e+07, 4.22497479e+07, 4.21372761e+07, 4.20252796e+07,\n",
       "        4.19137563e+07, 4.18027044e+07, 4.16921217e+07, 4.15820064e+07,\n",
       "        4.14723564e+07, 4.13631699e+07, 4.12544447e+07, 4.11461790e+07,\n",
       "        4.10383708e+07, 4.09310183e+07, 4.08241194e+07, 4.07176722e+07,\n",
       "        4.06116749e+07, 4.05061256e+07, 4.04010223e+07, 4.02963632e+07,\n",
       "        4.01921463e+07, 4.00883699e+07, 3.99850320e+07, 3.98821309e+07,\n",
       "        3.97796646e+07, 3.96776313e+07, 3.95760292e+07, 3.94748565e+07,\n",
       "        3.93741113e+07, 3.92737919e+07, 3.91738965e+07, 3.90744232e+07,\n",
       "        3.89753702e+07, 3.88767359e+07, 3.87785184e+07, 3.86807160e+07,\n",
       "        3.85833268e+07, 3.84863493e+07, 3.83897815e+07, 3.82936219e+07,\n",
       "        3.81978686e+07, 3.81025200e+07, 3.80075744e+07, 3.79130299e+07,\n",
       "        3.78188851e+07, 3.77251380e+07, 3.76317872e+07, 3.75388308e+07,\n",
       "        3.74462673e+07, 3.73540949e+07, 3.72623121e+07, 3.71709172e+07,\n",
       "        3.70799085e+07, 3.69892843e+07, 3.68990432e+07, 3.68091834e+07,\n",
       "        3.67197034e+07, 3.66306015e+07, 3.65418762e+07, 3.64535258e+07,\n",
       "        3.63655487e+07, 3.62779435e+07, 3.61907085e+07, 3.61038421e+07,\n",
       "        3.60173429e+07, 3.59312092e+07, 3.58454394e+07, 3.57600322e+07,\n",
       "        3.56749859e+07, 3.55902990e+07, 3.55059699e+07, 3.54219973e+07,\n",
       "        3.53383795e+07, 3.52551151e+07, 3.51722025e+07, 3.50896404e+07,\n",
       "        3.50074271e+07, 3.49255613e+07, 3.48440415e+07, 3.47628661e+07,\n",
       "        3.46820338e+07, 3.46015431e+07, 3.45213926e+07, 3.44415807e+07,\n",
       "        3.43621062e+07, 3.42829675e+07, 3.42041632e+07, 3.41256920e+07,\n",
       "        3.40475524e+07, 3.39697430e+07, 3.38922625e+07, 3.38151093e+07,\n",
       "        3.37382822e+07, 3.36617798e+07, 3.35856007e+07, 3.35097435e+07,\n",
       "        3.34342069e+07, 3.33589895e+07, 3.32840900e+07, 3.32095070e+07,\n",
       "        3.31352392e+07, 3.30612853e+07, 3.29876438e+07, 3.29143136e+07,\n",
       "        3.28412933e+07, 3.27685816e+07, 3.26961771e+07, 3.26240786e+07,\n",
       "        3.25522848e+07, 3.24807944e+07, 3.24096062e+07, 3.23387187e+07,\n",
       "        3.22681309e+07, 3.21978413e+07, 3.21278488e+07, 3.20581521e+07,\n",
       "        3.19887499e+07, 3.19196410e+07, 3.18508242e+07, 3.17822982e+07,\n",
       "        3.17140617e+07, 3.16461137e+07, 3.15784527e+07, 3.15110778e+07,\n",
       "        3.14439875e+07, 3.13771808e+07, 3.13106564e+07, 3.12444131e+07,\n",
       "        3.11784498e+07, 3.11127652e+07, 3.10473582e+07, 3.09822277e+07,\n",
       "        3.09173723e+07, 3.08527911e+07, 3.07884827e+07, 3.07244462e+07,\n",
       "        3.06606802e+07, 3.05971838e+07, 3.05339556e+07, 3.04709947e+07,\n",
       "        3.04082998e+07, 3.03458699e+07, 3.02837038e+07, 3.02218004e+07,\n",
       "        3.01601587e+07, 3.00987774e+07, 3.00376555e+07, 2.99767920e+07,\n",
       "        2.99161856e+07, 2.98558354e+07, 2.97957402e+07, 2.97358989e+07,\n",
       "        2.96763106e+07, 2.96169740e+07, 2.95578883e+07, 2.94990522e+07,\n",
       "        2.94404647e+07, 2.93821249e+07, 2.93240316e+07, 2.92661838e+07,\n",
       "        2.92085805e+07, 2.91512206e+07, 2.90941031e+07, 2.90372269e+07,\n",
       "        2.89805912e+07, 2.89241947e+07, 2.88680367e+07, 2.88121159e+07,\n",
       "        2.87564314e+07, 2.87009823e+07, 2.86457675e+07, 2.85907861e+07,\n",
       "        2.85360370e+07, 2.84815192e+07, 2.84272319e+07, 2.83731740e+07,\n",
       "        2.83193445e+07, 2.82657425e+07, 2.82123670e+07, 2.81592171e+07,\n",
       "        2.81062918e+07, 2.80535902e+07, 2.80011112e+07, 2.79488541e+07,\n",
       "        2.78968178e+07, 2.78450014e+07, 2.77934040e+07, 2.77420246e+07,\n",
       "        2.76908624e+07, 2.76399163e+07, 2.75891856e+07, 2.75386693e+07,\n",
       "        2.74883664e+07, 2.74382761e+07, 2.73883975e+07, 2.73387297e+07,\n",
       "        2.72892718e+07, 2.72400229e+07, 2.71909821e+07, 2.71421485e+07,\n",
       "        2.70935214e+07, 2.70450997e+07, 2.69968827e+07, 2.69488694e+07,\n",
       "        2.69010590e+07, 2.68534507e+07, 2.68060436e+07, 2.67588368e+07,\n",
       "        2.67118295e+07, 2.66650208e+07, 2.66184100e+07, 2.65719962e+07,\n",
       "        2.65257785e+07, 2.64797561e+07, 2.64339282e+07, 2.63882939e+07,\n",
       "        2.63428526e+07, 2.62976032e+07, 2.62525451e+07, 2.62076774e+07,\n",
       "        2.61629993e+07, 2.61185100e+07, 2.60742087e+07, 2.60300947e+07,\n",
       "        2.59861670e+07, 2.59424250e+07, 2.58988679e+07, 2.58554948e+07,\n",
       "        2.58123051e+07, 2.57692978e+07, 2.57264723e+07, 2.56838278e+07,\n",
       "        2.56413635e+07, 2.55990786e+07, 2.55569725e+07, 2.55150442e+07,\n",
       "        2.54732932e+07, 2.54317186e+07, 2.53903197e+07, 2.53490958e+07,\n",
       "        2.53080460e+07, 2.52671698e+07, 2.52264663e+07, 2.51859348e+07,\n",
       "        2.51455746e+07, 2.51053849e+07, 2.50653651e+07, 2.50255144e+07,\n",
       "        2.49858321e+07, 2.49463176e+07, 2.49069700e+07, 2.48677887e+07,\n",
       "        2.48287729e+07, 2.47899221e+07, 2.47512354e+07, 2.47127122e+07,\n",
       "        2.46743519e+07, 2.46361536e+07, 2.45981168e+07, 2.45602407e+07,\n",
       "        2.45225246e+07, 2.44849680e+07, 2.44475700e+07, 2.44103302e+07,\n",
       "        2.43732477e+07, 2.43363219e+07, 2.42995521e+07, 2.42629377e+07,\n",
       "        2.42264781e+07, 2.41901726e+07, 2.41540204e+07, 2.41180211e+07,\n",
       "        2.40821739e+07, 2.40464781e+07, 2.40109333e+07, 2.39755386e+07,\n",
       "        2.39402935e+07, 2.39051974e+07, 2.38702496e+07, 2.38354494e+07,\n",
       "        2.38007964e+07, 2.37662897e+07, 2.37319289e+07, 2.36977134e+07,\n",
       "        2.36636424e+07, 2.36297154e+07, 2.35959317e+07, 2.35622909e+07,\n",
       "        2.35287922e+07, 2.34954350e+07, 2.34622189e+07, 2.34291431e+07,\n",
       "        2.33962070e+07, 2.33634102e+07, 2.33307520e+07, 2.32982318e+07,\n",
       "        2.32658490e+07, 2.32336030e+07, 2.32014934e+07, 2.31695194e+07,\n",
       "        2.31376806e+07, 2.31059763e+07, 2.30744060e+07, 2.30429691e+07,\n",
       "        2.30116650e+07, 2.29804932e+07, 2.29494532e+07, 2.29185444e+07,\n",
       "        2.28877661e+07, 2.28571180e+07, 2.28265993e+07, 2.27962097e+07,\n",
       "        2.27659484e+07, 2.27358151e+07, 2.27058091e+07, 2.26759299e+07,\n",
       "        2.26461769e+07, 2.26165497e+07, 2.25870477e+07, 2.25576704e+07,\n",
       "        2.25284172e+07, 2.24992877e+07, 2.24702812e+07, 2.24413973e+07,\n",
       "        2.24126355e+07, 2.23839953e+07, 2.23554761e+07, 2.23270773e+07,\n",
       "        2.22987987e+07, 2.22706395e+07, 2.22425993e+07, 2.22146776e+07,\n",
       "        2.21868739e+07, 2.21591877e+07, 2.21316185e+07, 2.21041659e+07,\n",
       "        2.20768292e+07, 2.20496080e+07, 2.20225019e+07, 2.19955104e+07,\n",
       "        2.19686329e+07, 2.19418690e+07, 2.19152182e+07, 2.18886800e+07,\n",
       "        2.18622540e+07, 2.18359396e+07, 2.18097365e+07, 2.17836441e+07,\n",
       "        2.17576619e+07, 2.17317896e+07, 2.17060266e+07, 2.16803725e+07,\n",
       "        2.16548268e+07, 2.16293890e+07, 2.16040587e+07, 2.15788355e+07,\n",
       "        2.15537189e+07, 2.15287084e+07, 2.15038036e+07, 2.14790041e+07,\n",
       "        2.14543094e+07, 2.14297190e+07, 2.14052325e+07, 2.13808495e+07,\n",
       "        2.13565696e+07, 2.13323923e+07, 2.13083171e+07, 2.12843437e+07,\n",
       "        2.12604716e+07, 2.12367004e+07, 2.12130296e+07, 2.11894589e+07,\n",
       "        2.11659878e+07, 2.11426159e+07, 2.11193427e+07, 2.10961679e+07,\n",
       "        2.10730910e+07, 2.10501117e+07, 2.10272295e+07, 2.10044439e+07,\n",
       "        2.09817547e+07, 2.09591613e+07, 2.09366634e+07, 2.09142606e+07,\n",
       "        2.08919525e+07, 2.08697386e+07, 2.08476187e+07, 2.08255922e+07,\n",
       "        2.08036587e+07, 2.07818180e+07, 2.07600696e+07, 2.07384131e+07,\n",
       "        2.07168481e+07, 2.06953742e+07, 2.06739911e+07, 2.06526983e+07,\n",
       "        2.06314956e+07, 2.06103824e+07, 2.05893585e+07, 2.05684234e+07,\n",
       "        2.05475767e+07, 2.05268182e+07, 2.05061474e+07, 2.04855640e+07,\n",
       "        2.04650675e+07, 2.04446577e+07, 2.04243341e+07, 2.04040964e+07,\n",
       "        2.03839442e+07, 2.03638772e+07, 2.03438950e+07, 2.03239972e+07,\n",
       "        2.03041835e+07, 2.02844536e+07, 2.02648070e+07, 2.02452435e+07,\n",
       "        2.02257626e+07, 2.02063641e+07, 2.01870475e+07, 2.01678126e+07,\n",
       "        2.01486589e+07, 2.01295862e+07, 2.01105941e+07, 2.00916823e+07,\n",
       "        2.00728504e+07, 2.00540980e+07, 2.00354250e+07, 2.00168308e+07,\n",
       "        1.99983152e+07, 1.99798778e+07, 1.99615184e+07, 1.99432366e+07,\n",
       "        1.99250320e+07, 1.99069043e+07, 1.98888533e+07, 1.98708785e+07,\n",
       "        1.98529797e+07, 1.98351566e+07, 1.98174087e+07, 1.97997359e+07,\n",
       "        1.97821377e+07, 1.97646140e+07, 1.97471642e+07, 1.97297882e+07,\n",
       "        1.97124857e+07, 1.96952563e+07, 1.96780996e+07, 1.96610155e+07,\n",
       "        1.96440036e+07, 1.96270636e+07, 1.96101951e+07, 1.95933980e+07,\n",
       "        1.95766718e+07, 1.95600163e+07, 1.95434312e+07, 1.95269162e+07,\n",
       "        1.95104710e+07, 1.94940953e+07, 1.94777888e+07, 1.94615512e+07,\n",
       "        1.94453822e+07, 1.94292815e+07, 1.94132489e+07, 1.93972841e+07,\n",
       "        1.93813867e+07, 1.93655565e+07, 1.93497931e+07, 1.93340965e+07,\n",
       "        1.93184661e+07, 1.93029018e+07, 1.92874033e+07, 1.92719702e+07,\n",
       "        1.92566024e+07, 1.92412995e+07, 1.92260613e+07, 1.92108875e+07,\n",
       "        1.91957778e+07, 1.91807320e+07, 1.91657498e+07, 1.91508308e+07,\n",
       "        1.91359750e+07, 1.91211819e+07, 1.91064513e+07, 1.90917829e+07,\n",
       "        1.90771766e+07, 1.90626320e+07, 1.90481488e+07, 1.90337269e+07,\n",
       "        1.90193659e+07, 1.90050656e+07, 1.89908257e+07, 1.89766460e+07,\n",
       "        1.89625262e+07, 1.89484661e+07, 1.89344654e+07, 1.89205239e+07,\n",
       "        1.89066413e+07, 1.88928174e+07, 1.88790518e+07, 1.88653445e+07,\n",
       "        1.88516951e+07, 1.88381034e+07, 1.88245691e+07, 1.88110920e+07,\n",
       "        1.87976718e+07, 1.87843084e+07, 1.87710014e+07, 1.87577507e+07,\n",
       "        1.87445560e+07, 1.87314170e+07, 1.87183336e+07, 1.87053054e+07,\n",
       "        1.86923323e+07, 1.86794141e+07, 1.86665504e+07, 1.86537411e+07,\n",
       "        1.86409859e+07, 1.86282846e+07, 1.86156370e+07, 1.86030429e+07,\n",
       "        1.85905019e+07, 1.85780140e+07, 1.85655788e+07, 1.85531962e+07,\n",
       "        1.85408660e+07, 1.85285878e+07, 1.85163615e+07, 1.85041869e+07,\n",
       "        1.84920637e+07, 1.84799918e+07, 1.84679709e+07, 1.84560008e+07,\n",
       "        1.84440812e+07, 1.84322121e+07, 1.84203931e+07, 1.84086240e+07,\n",
       "        1.83969047e+07, 1.83852349e+07, 1.83736144e+07, 1.83620431e+07,\n",
       "        1.83505206e+07, 1.83390468e+07, 1.83276215e+07, 1.83162445e+07,\n",
       "        1.83049156e+07, 1.82936346e+07, 1.82824012e+07, 1.82712153e+07,\n",
       "        1.82600767e+07, 1.82489851e+07, 1.82379404e+07, 1.82269424e+07,\n",
       "        1.82159909e+07, 1.82050857e+07, 1.81942265e+07, 1.81834132e+07,\n",
       "        1.81726456e+07, 1.81619236e+07, 1.81512468e+07, 1.81406152e+07,\n",
       "        1.81300285e+07, 1.81194865e+07, 1.81089891e+07, 1.80985360e+07,\n",
       "        1.80881271e+07, 1.80777622e+07, 1.80674411e+07, 1.80571636e+07,\n",
       "        1.80469296e+07, 1.80367388e+07, 1.80265911e+07, 1.80164862e+07,\n",
       "        1.80064241e+07, 1.79964045e+07, 1.79864272e+07, 1.79764921e+07,\n",
       "        1.79665989e+07, 1.79567476e+07, 1.79469379e+07, 1.79371697e+07,\n",
       "        1.79274427e+07, 1.79177569e+07, 1.79081120e+07, 1.78985078e+07,\n",
       "        1.78889443e+07, 1.78794211e+07, 1.78699382e+07, 1.78604954e+07,\n",
       "        1.78510924e+07, 1.78417293e+07, 1.78324056e+07, 1.78231214e+07,\n",
       "        1.78138764e+07, 1.78046705e+07, 1.77955035e+07, 1.77863752e+07,\n",
       "        1.77772855e+07, 1.77682343e+07, 1.77592212e+07, 1.77502463e+07,\n",
       "        1.77413093e+07, 1.77324100e+07, 1.77235484e+07, 1.77147242e+07,\n",
       "        1.77059373e+07, 1.76971875e+07, 1.76884747e+07, 1.76797988e+07,\n",
       "        1.76711595e+07, 1.76625567e+07, 1.76539902e+07, 1.76454600e+07,\n",
       "        1.76369658e+07, 1.76285075e+07, 1.76200850e+07, 1.76116980e+07,\n",
       "        1.76033465e+07, 1.75950303e+07, 1.75867492e+07, 1.75785032e+07,\n",
       "        1.75702919e+07, 1.75621154e+07, 1.75539734e+07, 1.75458659e+07,\n",
       "        1.75377926e+07, 1.75297534e+07, 1.75217482e+07, 1.75137768e+07,\n",
       "        1.75058391e+07, 1.74979349e+07, 1.74900642e+07, 1.74822267e+07,\n",
       "        1.74744223e+07, 1.74666510e+07, 1.74589124e+07, 1.74512066e+07,\n",
       "        1.74435333e+07, 1.74358925e+07, 1.74282839e+07, 1.74207075e+07,\n",
       "        1.74131631e+07, 1.74056506e+07, 1.73981699e+07, 1.73907207e+07,\n",
       "        1.73833031e+07, 1.73759167e+07, 1.73685616e+07, 1.73612376e+07,\n",
       "        1.73539446e+07, 1.73466823e+07, 1.73394508e+07, 1.73322498e+07,\n",
       "        1.73250792e+07, 1.73179390e+07, 1.73108289e+07, 1.73037488e+07,\n",
       "        1.72966987e+07, 1.72896784e+07, 1.72826877e+07, 1.72757266e+07,\n",
       "        1.72687949e+07, 1.72618925e+07, 1.72550193e+07, 1.72481751e+07,\n",
       "        1.72413598e+07, 1.72345734e+07, 1.72278156e+07, 1.72210864e+07,\n",
       "        1.72143856e+07, 1.72077131e+07, 1.72010689e+07, 1.71944527e+07,\n",
       "        1.71878644e+07, 1.71813040e+07, 1.71747714e+07, 1.71682663e+07,\n",
       "        1.71617887e+07, 1.71553386e+07, 1.71489156e+07, 1.71425198e+07,\n",
       "        1.71361511e+07, 1.71298092e+07, 1.71234942e+07, 1.71172058e+07,\n",
       "        1.71109440e+07, 1.71047087e+07, 1.70984997e+07, 1.70923170e+07,\n",
       "        1.70861604e+07, 1.70800298e+07, 1.70739251e+07, 1.70678462e+07,\n",
       "        1.70617930e+07, 1.70557654e+07, 1.70497633e+07, 1.70437865e+07,\n",
       "        1.70378350e+07, 1.70319086e+07, 1.70260073e+07, 1.70201309e+07,\n",
       "        1.70142794e+07, 1.70084525e+07, 1.70026503e+07, 1.69968727e+07,\n",
       "        1.69911194e+07, 1.69853905e+07, 1.69796857e+07, 1.69740051e+07,\n",
       "        1.69683485e+07, 1.69627158e+07, 1.69571069e+07, 1.69515216e+07,\n",
       "        1.69459600e+07, 1.69404219e+07, 1.69349072e+07, 1.69294158e+07,\n",
       "        1.69239477e+07, 1.69185026e+07, 1.69130805e+07, 1.69076814e+07,\n",
       "        1.69023050e+07, 1.68969514e+07, 1.68916204e+07, 1.68863119e+07,\n",
       "        1.68810259e+07, 1.68757622e+07, 1.68705208e+07, 1.68653015e+07,\n",
       "        1.68601042e+07, 1.68549290e+07, 1.68497756e+07, 1.68446439e+07,\n",
       "        1.68395340e+07, 1.68344456e+07, 1.68293788e+07, 1.68243334e+07,\n",
       "        1.68193093e+07, 1.68143064e+07, 1.68093247e+07, 1.68043640e+07,\n",
       "        1.67994243e+07, 1.67945054e+07, 1.67896074e+07, 1.67847300e+07,\n",
       "        1.67798733e+07, 1.67750370e+07, 1.67702213e+07, 1.67654258e+07,\n",
       "        1.67606507e+07, 1.67558957e+07, 1.67511608e+07, 1.67464459e+07,\n",
       "        1.67417509e+07, 1.67370758e+07, 1.67324205e+07, 1.67277848e+07,\n",
       "        1.67231687e+07, 1.67185721e+07, 1.67139949e+07, 1.67094371e+07,\n",
       "        1.67048986e+07, 1.67003792e+07, 1.66958789e+07, 1.66913976e+07,\n",
       "        1.66869353e+07, 1.66824919e+07, 1.66780672e+07, 1.66736612e+07,\n",
       "        1.66692738e+07, 1.66649050e+07, 1.66605546e+07, 1.66562226e+07,\n",
       "        1.66519090e+07, 1.66476135e+07, 1.66433362e+07, 1.66390770e+07,\n",
       "        1.66348358e+07, 1.66306125e+07, 1.66264071e+07, 1.66222194e+07,\n",
       "        1.66180494e+07, 1.66138971e+07, 1.66097623e+07, 1.66056449e+07,\n",
       "        1.66015450e+07, 1.65974624e+07, 1.65933970e+07, 1.65893489e+07,\n",
       "        1.65853178e+07, 1.65813038e+07, 1.65773067e+07, 1.65733265e+07,\n",
       "        1.65693632e+07, 1.65654166e+07, 1.65614866e+07, 1.65575733e+07,\n",
       "        1.65536765e+07, 1.65497962e+07, 1.65459323e+07, 1.65420847e+07,\n",
       "        1.65382534e+07, 1.65344383e+07, 1.65306393e+07, 1.65268563e+07]))"
      ]
     },
     "execution_count": 22,
     "metadata": {},
     "output_type": "execute_result"
    }
   ],
   "source": [
    "theta_final, cost_history = gradient_descent(X, y, theta, learning_rate, n_iterations)\n",
    "\n",
    "gradient_descent(X, y, theta, learning_rate, n_iterations)\n"
   ]
  },
  {
   "cell_type": "markdown",
   "metadata": {},
   "source": [
    "**Exercise :** \n",
    "1. Create a ``predictions`` variable that contains model(X, theta_final).\n",
    "2. Use matplotlib to display the x and y scatter plot.\n",
    "3. Use the plot method to display your predictions. \n"
   ]
  },
  {
   "cell_type": "code",
   "execution_count": 23,
   "metadata": {},
   "outputs": [
    {
     "data": {
      "image/png": "[encoded data removed]",
      "text/plain": [
       "<Figure size 432x288 with 1 Axes>"
      ]
     },
     "metadata": {
      "needs_background": "light"
     },
     "output_type": "display_data"
    }
   ],
   "source": [
    "import matplotlib.pyplot as plt\n",
    "\n",
    "predictions = np.dot(X, theta_final)\n",
    "x = X[:, 0]\n",
    "\n",
    "plt.scatter(x, y, color='b')\n",
    "plt.plot(x, predictions, color='r')\n",
    "plt.show()"
   ]
  },
  {
   "cell_type": "markdown",
   "metadata": {},
   "source": [
    "You should have something like this. \n",
    "![](./assets/final_theta.png)"
   ]
  },
  {
   "cell_type": "markdown",
   "metadata": {},
   "source": [
    "If not, change the learning rate and the number of iterations."
   ]
  },
  {
   "cell_type": "markdown",
   "metadata": {},
   "source": [
    "### Learning curves\n",
    "To check if our Gradient Descent algorithm worked well, we observe the evolution of the cost function through iterations. We are supposed to obtain a curve that decreases with each iteration until it stagnates at a minimal level (close to zero). If the curve does not follow this pattern, then the learning_rate step may be too high, we should take a lower step."
   ]
  },
  {
   "cell_type": "code",
   "execution_count": 24,
   "metadata": {},
   "outputs": [
    {
     "data": {
      "image/png": "[encoded data removed]",
      "text/plain": [
       "<Figure size 432x288 with 1 Axes>"
      ]
     },
     "metadata": {
      "needs_background": "light"
     },
     "output_type": "display_data"
    }
   ],
   "source": [
    "plt.plot(cost_history)\n",
    "plt.show()"
   ]
  },
  {
   "cell_type": "markdown",
   "metadata": {},
   "source": [
    "You should have something like this: \n",
    "![](./assets/learning_curve.png)"
   ]
  },
  {
   "cell_type": "markdown",
   "metadata": {},
   "source": [
    "On this histogram, we can see that after 400 iterations, the model no longer learns and becomes constant. We can thus redefine the n_iterations to 400"
   ]
  },
  {
   "cell_type": "markdown",
   "metadata": {},
   "source": [
    "### Evaluation\n",
    "\n",
    "To evaluate the real performance of our model with a popular metric (for your boss, client, or colleagues) we can use the coefficient of determination, also known as $R^2$. It comes from the method of least squares. The closer the result is to 1, the better your model is."
   ]
  },
  {
   "cell_type": "code",
   "execution_count": null,
   "metadata": {},
   "outputs": [],
   "source": [
    "def coef_determination(y, pred):\n",
    "    u = ((y - pred)**2).sum()\n",
    "    v = ((y - y.mean())**2).sum()\n",
    "    return 1 - u/v"
   ]
  },
  {
   "cell_type": "code",
   "execution_count": null,
   "metadata": {},
   "outputs": [],
   "source": [
    "coef_determination(y, predictions)"
   ]
  },
  {
   "cell_type": "markdown",
   "metadata": {},
   "source": [
    "### The end\n",
    "Ok ok, you just built your own model of linear regression, do you realize that? \n",
    "This part was a bit theoretical, but it's essential to understand how it works.  \n",
    "![tired.gif](./assets/tired.gif)"
   ]
  }
 ],
 "metadata": {
  "colab": {
   "collapsed_sections": [],
   "name": "Copie de linearregression.ipynb",
   "provenance": []
  },
  "kernelspec": {
   "display_name": "Python 3",
   "language": "python",
   "name": "python3"
  },
  "language_info": {
   "codemirror_mode": {
    "name": "ipython",
    "version": 3
   },
   "file_extension": ".py",
   "mimetype": "text/x-python",
   "name": "python",
   "nbconvert_exporter": "python",
   "pygments_lexer": "ipython3",
   "version": "3.8.8"
  }
 },
 "nbformat": 4,
 "nbformat_minor": 1
}
