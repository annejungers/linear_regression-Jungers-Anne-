{
 "cells": [
  {
   "cell_type": "markdown",
   "metadata": {
    "id": "oGRCdv2_63Fm"
   },
   "source": [
    "# Linear regression\n",
    "\n",
    "Now that we've created our first learning machine model, let's see how it works under the hood."
   ]
  },
  {
   "cell_type": "markdown",
   "metadata": {
    "id": "4IHjwpyJmYz0"
   },
   "source": [
    "## How does it work?\n",
    "Here comes a part that some of you fear: Mathematics!    \n",
    "\n",
    "But don't worry, you'll see that it's not that complicated.\n",
    "\n",
    "### How to calculate the y-axis from the x-axis?"
   ]
  },
  {
   "cell_type": "markdown",
   "metadata": {
    "id": "rPLnFMBxs4C9"
   },
   "source": [
    "A linear model is in fact based on a simple [affine function.](https://fr.wikipedia.org/wiki/Fonction_affine) !"
   ]
  },
  {
   "cell_type": "markdown",
   "metadata": {
    "id": "2XTFIZfapioo"
   },
   "source": [
    "$$f(x) = ax + b$$\n",
    "or ...\n",
    "$$y = f(x) = ax + b$$\n",
    "or..."
   ]
  },
  {
   "cell_type": "markdown",
   "metadata": {},
   "source": [
    "```py\n",
    "y = a*x + b\n",
    "```"
   ]
  },
  {
   "cell_type": "markdown",
   "metadata": {},
   "source": [
    "**Exercise :** Create a function ``f`` which receives as a parameter the variables ``x``,``a`` and ``b`` and returns ``y``"
   ]
  },
  {
   "cell_type": "code",
   "execution_count": 2,
   "metadata": {},
   "outputs": [
    {
     "data": {
      "text/plain": [
       "9"
      ]
     },
     "execution_count": 2,
     "metadata": {},
     "output_type": "execute_result"
    }
   ],
   "source": [
    "def f(x, a, b):\n",
    "    y = a*x + b\n",
    "    return y\n",
    "\n",
    "f(1, 4, 5)    "
   ]
  },
  {
   "cell_type": "markdown",
   "metadata": {},
   "source": [
    "This function will allow us to create a straight line that passes through all the points as well as possible. For the moment, we do not know the value of parameters a and b, so it is impossible to draw a good straight line on the scatter plot, unless we choose parameters at random. And that is what we are going to do."
   ]
  },
  {
   "cell_type": "markdown",
   "metadata": {
    "id": "nl6jA7JTdoO8"
   },
   "source": [
    "\n",
    "The linear model with random parameters would look something like this: "
   ]
  },
  {
   "cell_type": "markdown",
   "metadata": {
    "id": "a6Va6jerdvjC"
   },
   "source": [
    "![image.png](./assets/random_bias.png)\n"
   ]
  },
  {
   "cell_type": "markdown",
   "metadata": {
    "id": "2x4DbSIbeQNA"
   },
   "source": [
    "But we want to achieve this result:"
   ]
  },
  {
   "cell_type": "markdown",
   "metadata": {
    "id": "w7hNlrnOezsy"
   },
   "source": [
    "![](./assets/trained_bias.png)"
   ]
  },
  {
   "cell_type": "markdown",
   "metadata": {
    "id": "mKo1rgh_fA7O"
   },
   "source": [
    "And it will be the role of the machine to learn how to find these values (a and b) by minimizing the cost function that we will see in detail in the next chapter.\n",
    "\n",
    "Before we do that, we need to look at the small problem we have with this method. If we execute the function as is, we would have to make a loop for each element $x^{i}$ of our dataset. This can be very expensive in terms of machine resources. If your dataset is very large, it will take a lot of time to train your model. \n",
    "\n",
    "To solve this problem, it is usual to use something you are beginning to know, matrices! \n",
    "\n",
    "The matrices allow us to perform the function only once on our entire dataset. \n",
    "\n",
    "The matrix writing of $f(x)=ax+b$ is written like this:\n",
    "$$ F = X . \\theta$$\n",
    "\n",
    "As these are matrices that contain all the data, by convention, we put them in uppercase.\n",
    "\n",
    "The variable $F$ will contain a matrix with the set of predictions of $x^{(i)}$. \n",
    "\n",
    "$$ \n",
    "F \\\\\n",
    "\\begin{bmatrix}\n",
    "f(x^{(1)})\\\\\n",
    "f(x^{(2)})\\\\\n",
    "f(x^{(3)})\\\\\n",
    "... \\\\\n",
    "f(x^{(m)})\\\\\n",
    "\\end{bmatrix}\n",
    "$$"
   ]
  },
  {
   "cell_type": "markdown",
   "metadata": {},
   "source": [
    "The variable $\\theta$ (pronounced theta) will contain a vector with the values $a$ and $b$."
   ]
  },
  {
   "cell_type": "markdown",
   "metadata": {},
   "source": [
    "$$\n",
    "\\theta \\\\\n",
    "\\begin{bmatrix}\n",
    "a \\\\\n",
    "b \\\\\n",
    "\\end{bmatrix}\n",
    "$$"
   ]
  },
  {
   "cell_type": "markdown",
   "metadata": {},
   "source": [
    "The variable $X$ will contain a matrix with two dimensions, one dimension with the value of $x^{(i)}$ and another dimension with 1's everywhere.  Why? Because we have to multiply our X and theta matrices.\n",
    "$$ \n",
    "\\begin{equation*}\n",
    "\\begin{bmatrix}\n",
    "x^{(1)} && 1\\\\\n",
    "x^{(2)} && 1\\\\\n",
    "x^{(3)} && 1\\\\\n",
    "... \\\\\n",
    "x^{(m)} && 1\\\\\n",
    "\\end{bmatrix}\n",
    ".\n",
    "\\begin{bmatrix}\n",
    "a \\\\\n",
    "b \\\\\n",
    "\\end{bmatrix}\n",
    "\\end{equation*}\n",
    "$$\n",
    "\n",
    "![](./assets/dot_mat.jpg)"
   ]
  },
  {
   "cell_type": "markdown",
   "metadata": {},
   "source": [
    "Which amounts to writing this: \n",
    "$$ y^{(1)} = x^{(1)}* a + 1 * b$$\n",
    "\n",
    "And if we simplify:\n",
    "$$ y^{(1)} = ax^{(1)} + b$$\n",
    "\n",
    "\n",
    "So we are back to our original function.\n"
   ]
  },
  {
   "cell_type": "markdown",
   "metadata": {},
   "source": [
    "**Exercise :**\n",
    "1. Create a variable ``X`` which contains a matrix (30,2) with a column filled with values of our dataframe and then another one with 1's. \n",
    "2. Create the ``theta`` variable which contains a vector with 2 random values.\n",
    "3. Create a variable ``F`` which contains a multiplication of the matrix X with the theta vector."
   ]
  },
  {
   "cell_type": "markdown",
   "metadata": {},
   "source": [
    "**Exercise :** Create a ``model`` function that receives as parameter ``X`` and ``theta``.  The function must return ``F``. "
   ]
  },
  {
   "cell_type": "code",
   "execution_count": 3,
   "metadata": {},
   "outputs": [
    {
     "name": "stdout",
     "output_type": "stream",
     "text": [
      "[[4.27179757]\n",
      " [4.35524969]\n",
      " [4.4387018 ]\n",
      " [4.64733208]\n",
      " [4.73078419]\n",
      " [5.02286658]\n",
      " [5.06459263]\n",
      " [5.14804474]\n",
      " [5.14804474]\n",
      " [5.35667502]\n",
      " [5.44012713]\n",
      " [5.48185319]\n",
      " [5.48185319]\n",
      " [5.52357924]\n",
      " [5.69048347]\n",
      " [5.85738769]\n",
      " [5.9408398 ]\n",
      " [6.02429191]\n",
      " [6.27464824]\n",
      " [6.3163743 ]\n",
      " [6.65018274]\n",
      " [6.77536091]\n",
      " [7.10916936]\n",
      " [7.23434752]\n",
      " [7.4429778 ]\n",
      " [7.56815597]\n",
      " [7.77678625]\n",
      " [7.8185123 ]\n",
      " [8.11059469]\n",
      " [8.1940468 ]]\n"
     ]
    }
   ],
   "source": [
    "import numpy as np\n",
    "import pandas as pd\n",
    "\n",
    "df = pd.read_csv(\"./data/salary_data.csv\")\n",
    "\n",
    "X = np.empty([30, 2], dtype=float)\n",
    "X[:,0] = df.iloc[:, 0].values\n",
    "X[:,1] = 1     #filling another column with 1's\n",
    "\n",
    "\n",
    "theta = np.random.normal(size=2).reshape(2,1)\n",
    "\n",
    "F = np.dot(X, theta)\n",
    "print(F)\n",
    "\n",
    "#X = X.reshape(30,2)\n",
    "#X = np.arange(30, 2)\n",
    "#theta = np.random.random((a,b)).reshape\n",
    "#dot function numpy\n",
    "#F = X * theta # there is a function in numpy to do this\n",
    "\n"
   ]
  },
  {
   "cell_type": "markdown",
   "metadata": {},
   "source": [
    "**Exercise :** Create a ``y_pred`` variable and use your `model` function with ``X, theta``"
   ]
  },
  {
   "cell_type": "code",
   "execution_count": 4,
   "metadata": {},
   "outputs": [],
   "source": [
    "y_pred = np.dot(X, theta)"
   ]
  },
  {
   "cell_type": "markdown",
   "metadata": {},
   "source": [
    "Now we know how to apply our model to our entire dataset. Now we have to know how to find the right values for a and b. For that we will have to calculate the average of all our errors with a cost function."
   ]
  },
  {
   "cell_type": "markdown",
   "metadata": {
    "id": "XKaQ28Hafn_h"
   },
   "source": [
    "### Cost function"
   ]
  },
  {
   "cell_type": "markdown",
   "metadata": {
    "id": "VRBuUaU2ftck"
   },
   "source": [
    "The cost function allows us to evaluate the performance of our model by measuring the errors between the prediction and the actual value. The question we ask ourselves is: How to measure these errors?\n",
    "\n",
    "Imagine that you have 4 years of experience and that you spend 90000€ per year. Your Machine Learning model predicts that this salary is worth €110000. You can conclude that your model therefore makes an error of 90000 - 110000 = -20000 €.\n",
    "\n",
    "Thus, you could say that to measure your errors, you have to calculate the difference $f(x)-y$. However, if your prediction f(x) is less than y, then this error is negative (as in the example above), and it is not very practical to minimize this function.\n",
    "\n",
    "So, to measure the errors between the $f(x)$ predictions and the y-values of the Dataset, we calculate the square of the difference: $(f(x)-y)^2$. This, by the way, is what is called the Euclidean norm, which represents the direct distance between $f(x)$ and y in Euclidean geometry.\n"
   ]
  },
  {
   "cell_type": "markdown",
   "metadata": {
    "id": "yJFTEvD8wb7b"
   },
   "source": [
    "\n",
    "\n",
    "![image.png](./assets/eucli.JPG)"
   ]
  },
  {
   "cell_type": "markdown",
   "metadata": {
    "id": "xa-c_X4xt2vO"
   },
   "source": [
    "But this is not enough. Indeed, we have the error of a single example. But we must have the average of all the errors of all the points. \n",
    "\n",
    "We could write it like this: \n",
    "\n",
    "\n",
    "\n",
    "$$MSE(a,b) = {\\dfrac{(f(x^{(1)})- y^{(1)})^2 + (f(x^{(2)})- y^{(2)})^2  + ... +(f(x^{(m)})- y^{(m)})^2}{m}}$$"
   ]
  },
  {
   "cell_type": "markdown",
   "metadata": {
    "id": "1GUWy24S5b27"
   },
   "source": [
    "Why $MSE$? Because this function is called **Mean Squared Error**"
   ]
  },
  {
   "cell_type": "markdown",
   "metadata": {
    "id": "ImWIompHxm2Q"
   },
   "source": [
    "By convention this function is written in the following way, adding a coefficient $\\frac{1}{2}$ to simplify a derivative calculation that will come later.\n",
    "\n",
    "$$ MSE(a, b) = {\\dfrac{1}{2m}} \\sum _ {i=1}^m (f(x^{(i)}) - y^{(i)})^2$$\n",
    "\n",
    "Or\n",
    "\n",
    "$$ MSE(a, b) = {\\dfrac{1}{2m}} \\sum _ {i=1}^m (ax^{(i)} +b - y^{(i)})^2$$\n"
   ]
  },
  {
   "cell_type": "markdown",
   "metadata": {},
   "source": [
    "But as we work with matrices, we also have to transcribe our formula which becomes : \n",
    "\n",
    "$$MSE(\\theta) = \\frac {1}{2m}  \\sum _ {i=1}^m (X . \\theta - y)^2$$"
   ]
  },
  {
   "cell_type": "markdown",
   "metadata": {},
   "source": [
    "or \n",
    "\n",
    "```py\n",
    "MSE = 1/(2*m) * sum((X * theta - y)**2)\n",
    "```"
   ]
  },
  {
   "cell_type": "markdown",
   "metadata": {
    "id": "47zckFxMQiVs"
   },
   "source": [
    "**Exercise :** Create a ``MSE`` function that receives as parameter ``X, y and theta`` using the example above."
   ]
  },
  {
   "cell_type": "code",
   "execution_count": 5,
   "metadata": {},
   "outputs": [
    {
     "name": "stdout",
     "output_type": "stream",
     "text": [
      "[3.25098867e+09]\n"
     ]
    }
   ],
   "source": [
    "m = len(df)\n",
    "\n",
    "y = np.empty([30,1])\n",
    "y[:,0] = df.iloc[:, -1].values.T\n",
    "\n",
    "MSE = 1/(2*m) * sum((y_pred - y)**2)\n",
    "print(MSE)"
   ]
  },
  {
   "cell_type": "markdown",
   "metadata": {
    "id": "s_2cfr2DOB9X"
   },
   "source": [
    "### Minimize the cost function.\n",
    "\n",
    "\n",
    "\n",
    "If the cost function is omitted with respect to the parameter, it looks something like this:"
   ]
  },
  {
   "cell_type": "markdown",
   "metadata": {
    "id": "ASRXsJyO__ic"
   },
   "source": [
    "![image.png](./assets/convexe.png)"
   ]
  },
  {
   "cell_type": "markdown",
   "metadata": {
    "id": "55-cHhR_DBNI"
   },
   "source": [
    "The aim is therefore to reach the lowest point of the curve, i.e. the lowest possible sum of errors. "
   ]
  },
  {
   "cell_type": "markdown",
   "metadata": {
    "id": "cqyzIhPKDMc_"
   },
   "source": [
    "![image.png](./assets/gradient_descent.png)"
   ]
  },
  {
   "cell_type": "markdown",
   "metadata": {},
   "source": [
    "To do this, there are several function minimization algorithms, such as the least squares method or **gradient descent**. We will focus here on gradient descent because it is one of the most widely used."
   ]
  },
  {
   "cell_type": "markdown",
   "metadata": {
    "id": "7gmDtf6l-f7T"
   },
   "source": [
    "Gradient descent is an iterative algorithm which therefore proceeds by progressive improvements. For a linear problem, this algorithm needs to have two hyper-parameters :\n",
    "\n",
    "**1. The number of iterations :** As its name indicates, this is the parameter that will determine the number of iterations.\n",
    "\n",
    "**2. The learning rate :** This is the length of the step between each iteration. "
   ]
  },
  {
   "cell_type": "markdown",
   "metadata": {
    "id": "KMJ0V9J6HQZa"
   },
   "source": [
    "![learningrate](./assets/gradient_descent_1.gif)"
   ]
  },
  {
   "cell_type": "markdown",
   "metadata": {},
   "source": [
    "It is important to clearly define the learning rate. If you set a high value, the algorithm will be faster, but you risk never reaching the lowest point of the curve, the steps being too big. Our model will never be able to work since it cannot find the minimum of the cost function."
   ]
  },
  {
   "cell_type": "markdown",
   "metadata": {
    "id": "TASxiF6zHnq0"
   },
   "source": [
    "![](./assets/gradient_descent_2.gif)"
   ]
  },
  {
   "cell_type": "markdown",
   "metadata": {},
   "source": [
    "Conversely, if you set a small value, then the algorithm will find the lowest point of the curve, but it will be slower."
   ]
  },
  {
   "cell_type": "markdown",
   "metadata": {
    "id": "9on9fx_9HhYb"
   },
   "source": [
    "![learning rate](./assets/gradient_descent_3.gif)"
   ]
  },
  {
   "cell_type": "markdown",
   "metadata": {},
   "source": [
    "At each iteration, we will have to calculate the regression slope. \n",
    "![](./assets/derivative.gif)"
   ]
  },
  {
   "cell_type": "markdown",
   "metadata": {},
   "source": [
    "And in mathematics we calculate a slope with a [partial derivative](https://en.wikipedia.org/wiki/Partial_derivative#:~:text=In%20mathematics%2C%20a%20partial%20derivative,vector%20calculus%20and%20differential%20geometry.). The symbol used to denote partial derivatives is $\\partial$. "
   ]
  },
  {
   "cell_type": "markdown",
   "metadata": {},
   "source": [
    "$$ \\frac {\\partial MSE(\\theta) }{\\partial \\theta}  = \\frac {1}{m} X^T.(X.\\theta - y)$$\n",
    "\n",
    "The $X^T$ is to transpose the matrix, just like in numpy."
   ]
  },
  {
   "cell_type": "markdown",
   "metadata": {},
   "source": [
    "You could translate this into code like this:\n",
    "\n",
    "```py\n",
    "1/m * X.T.dot(model(X, theta) - y)\n",
    "```\n",
    "\n"
   ]
  },
  {
   "cell_type": "code",
   "execution_count": 6,
   "metadata": {},
   "outputs": [],
   "source": [
    "def grad(X, y, theta):\n",
    "    m = len(y)\n",
    "    return 1/m * X.T.dot(np.dot(X, theta) - y)"
   ]
  },
  {
   "cell_type": "markdown",
   "metadata": {},
   "source": [
    "We still have to write the gradient descent. \n",
    "\n",
    "$$\\theta = \\theta - a .  \\frac {\\partial MSE(\\theta) }{\\partial \\theta}$$\n",
    "\n",
    "The variable $a$ is the learning rate. So at each iteration, we redefine theta. We do : ``theta`` - ``learning_rate`` multiplied by the partial derivative of mean squared error. You could translate this into code like this:"
   ]
  },
  {
   "cell_type": "markdown",
   "metadata": {},
   "source": [
    "```py\n",
    "theta = theta - learning_rate * grad(X, y, theta)\n",
    "```"
   ]
  },
  {
   "cell_type": "markdown",
   "metadata": {},
   "source": [
    "**Exercise :**\n",
    "1. Create a `gradient_descent` function that receives as parameter ``X``, ``y``, ``theta``, ``learning_rate``, ``n_iterations``\n",
    "2. In the function, create a variable `cost_history` with a matrix filled with 0 and which has a length of `n_iterations`. We will use it to display the histogram of the model learning process.\n",
    "3. Create a loop that iterates up to ``n_iterations``\n",
    "4. In the loop, update ``theta`` with the formula of the gradient descent (The example above) \n",
    "5. In the loop, update ``cost_history[i]`` with the values of ``MSE(X,y,theta)``\n",
    "6. return `theta` and `cost_history`"
   ]
  },
  {
   "cell_type": "code",
   "execution_count": 7,
   "metadata": {},
   "outputs": [],
   "source": [
    "#theta_final, cost_history = gradiente_descedent(X, y, theta, learning_rate, n_iterations)\n",
    "#print(theta_final)\n",
    "\n",
    "def mse(X, y, theta):\n",
    "    return 1/(2*m)*sum((np.dot(X, theta) - y)**2)\n",
    "\n",
    "def gradient_descent(X, y, theta, learning_rate, n_iterations):\n",
    "    cost_history = np.zeros(n_iterations)\n",
    "    \n",
    "    for i in range(n_iterations):\n",
    "        theta = theta - learning_rate * grad(X, y, theta)\n",
    "        cost_history[i] = mse(X, y, theta)\n",
    "        \n",
    "    return (theta, cost_history)"
   ]
  },
  {
   "cell_type": "markdown",
   "metadata": {},
   "source": [
    "### Train your model\n",
    "\n",
    "Now that we know which algorithm is used to minimize the cost function, we train our model.   \n",
    "We define a number of iterations, and a learning step $\\alpha$, and here we go!\n",
    "\n",
    "Once the model is trained, we observe the results compared to our dataset.\n",
    "\n",
    "**Exercise :** Create variables `n_iterations` and `learning_rate`. \n",
    "The learning rate and the n_iterations are defined by looking a little. You have to try several things, there is no magic number. However, starting with 1000 iterations and a learning_rate of 0.01 is a good basis to start training."
   ]
  },
  {
   "cell_type": "code",
   "execution_count": 84,
   "metadata": {},
   "outputs": [],
   "source": [
    "n_iterations = 1000\n",
    "learning_rate = 0.01"
   ]
  },
  {
   "cell_type": "markdown",
   "metadata": {},
   "source": [
    "**Exercise:** Create variables ``theta_final``, ``cost history`` and instance ``gradient_descent()``."
   ]
  },
  {
   "cell_type": "code",
   "execution_count": 85,
   "metadata": {},
   "outputs": [
    {
     "data": {
      "text/plain": [
       "(array([[ 9876.0937063 ],\n",
       "        [22920.61389839]]),\n",
       " array([1.34480247e+09, 5.83006227e+08, 2.78621560e+08, 1.56908974e+08,\n",
       "        1.08148775e+08, 8.85234162e+07, 8.05339621e+07, 7.71920532e+07,\n",
       "        7.57068224e+07, 7.49637092e+07, 7.45176011e+07, 7.41907358e+07,\n",
       "        7.39121196e+07, 7.36533979e+07, 7.34032444e+07, 7.31571332e+07,\n",
       "        7.29132542e+07, 7.26708819e+07, 7.24297240e+07, 7.21896612e+07,\n",
       "        7.19506432e+07, 7.17126474e+07, 7.14756622e+07, 7.12396804e+07,\n",
       "        7.10046967e+07, 7.07707063e+07, 7.05377049e+07, 7.03056882e+07,\n",
       "        7.00746520e+07, 6.98445922e+07, 6.96155046e+07, 6.93873851e+07,\n",
       "        6.91602297e+07, 6.89340342e+07, 6.87087947e+07, 6.84845070e+07,\n",
       "        6.82611671e+07, 6.80387711e+07, 6.78173149e+07, 6.75967946e+07,\n",
       "        6.73772062e+07, 6.71585458e+07, 6.69408094e+07, 6.67239932e+07,\n",
       "        6.65080933e+07, 6.62931057e+07, 6.60790267e+07, 6.58658524e+07,\n",
       "        6.56535790e+07, 6.54422026e+07, 6.52317195e+07, 6.50221259e+07,\n",
       "        6.48134180e+07, 6.46055922e+07, 6.43986446e+07, 6.41925716e+07,\n",
       "        6.39873694e+07, 6.37830345e+07, 6.35795630e+07, 6.33769514e+07,\n",
       "        6.31751961e+07, 6.29742933e+07, 6.27742396e+07, 6.25750313e+07,\n",
       "        6.23766649e+07, 6.21791368e+07, 6.19824434e+07, 6.17865812e+07,\n",
       "        6.15915468e+07, 6.13973365e+07, 6.12039470e+07, 6.10113748e+07,\n",
       "        6.08196164e+07, 6.06286683e+07, 6.04385272e+07, 6.02491896e+07,\n",
       "        6.00606522e+07, 5.98729115e+07, 5.96859642e+07, 5.94998070e+07,\n",
       "        5.93144364e+07, 5.91298493e+07, 5.89460422e+07, 5.87630118e+07,\n",
       "        5.85807550e+07, 5.83992683e+07, 5.82185487e+07, 5.80385927e+07,\n",
       "        5.78593972e+07, 5.76809591e+07, 5.75032750e+07, 5.73263418e+07,\n",
       "        5.71501563e+07, 5.69747153e+07, 5.68000158e+07, 5.66260546e+07,\n",
       "        5.64528285e+07, 5.62803345e+07, 5.61085694e+07, 5.59375302e+07,\n",
       "        5.57672139e+07, 5.55976172e+07, 5.54287373e+07, 5.52605711e+07,\n",
       "        5.50931156e+07, 5.49263677e+07, 5.47603245e+07, 5.45949830e+07,\n",
       "        5.44303402e+07, 5.42663932e+07, 5.41031391e+07, 5.39405748e+07,\n",
       "        5.37786976e+07, 5.36175044e+07, 5.34569925e+07, 5.32971588e+07,\n",
       "        5.31380007e+07, 5.29795151e+07, 5.28216993e+07, 5.26645504e+07,\n",
       "        5.25080656e+07, 5.23522422e+07, 5.21970772e+07, 5.20425680e+07,\n",
       "        5.18887117e+07, 5.17355056e+07, 5.15829470e+07, 5.14310331e+07,\n",
       "        5.12797612e+07, 5.11291285e+07, 5.09791324e+07, 5.08297702e+07,\n",
       "        5.06810392e+07, 5.05329368e+07, 5.03854602e+07, 5.02386068e+07,\n",
       "        5.00923741e+07, 4.99467594e+07, 4.98017600e+07, 4.96573733e+07,\n",
       "        4.95135969e+07, 4.93704280e+07, 4.92278642e+07, 4.90859029e+07,\n",
       "        4.89445415e+07, 4.88037774e+07, 4.86636083e+07, 4.85240315e+07,\n",
       "        4.83850445e+07, 4.82466449e+07, 4.81088302e+07, 4.79715979e+07,\n",
       "        4.78349456e+07, 4.76988707e+07, 4.75633709e+07, 4.74284437e+07,\n",
       "        4.72940867e+07, 4.71602975e+07, 4.70270736e+07, 4.68944128e+07,\n",
       "        4.67623127e+07, 4.66307707e+07, 4.64997847e+07, 4.63693522e+07,\n",
       "        4.62394709e+07, 4.61101385e+07, 4.59813527e+07, 4.58531111e+07,\n",
       "        4.57254114e+07, 4.55982514e+07, 4.54716288e+07, 4.53455413e+07,\n",
       "        4.52199867e+07, 4.50949626e+07, 4.49704669e+07, 4.48464973e+07,\n",
       "        4.47230516e+07, 4.46001276e+07, 4.44777231e+07, 4.43558358e+07,\n",
       "        4.42344636e+07, 4.41136044e+07, 4.39932559e+07, 4.38734160e+07,\n",
       "        4.37540825e+07, 4.36352534e+07, 4.35169264e+07, 4.33990994e+07,\n",
       "        4.32817704e+07, 4.31649373e+07, 4.30485978e+07, 4.29327501e+07,\n",
       "        4.28173919e+07, 4.27025212e+07, 4.25881359e+07, 4.24742340e+07,\n",
       "        4.23608135e+07, 4.22478723e+07, 4.21354084e+07, 4.20234197e+07,\n",
       "        4.19119044e+07, 4.18008602e+07, 4.16902854e+07, 4.15801778e+07,\n",
       "        4.14705356e+07, 4.13613567e+07, 4.12526392e+07, 4.11443811e+07,\n",
       "        4.10365806e+07, 4.09292356e+07, 4.08223442e+07, 4.07159046e+07,\n",
       "        4.06099147e+07, 4.05043728e+07, 4.03992769e+07, 4.02946252e+07,\n",
       "        4.01904157e+07, 4.00866466e+07, 3.99833160e+07, 3.98804221e+07,\n",
       "        3.97779630e+07, 3.96759369e+07, 3.95743420e+07, 3.94731764e+07,\n",
       "        3.93724383e+07, 3.92721260e+07, 3.91722376e+07, 3.90727713e+07,\n",
       "        3.89737253e+07, 3.88750980e+07, 3.87768874e+07, 3.86790918e+07,\n",
       "        3.85817096e+07, 3.84847389e+07, 3.83881779e+07, 3.82920251e+07,\n",
       "        3.81962786e+07, 3.81009367e+07, 3.80059977e+07, 3.79114599e+07,\n",
       "        3.78173217e+07, 3.77235813e+07, 3.76302370e+07, 3.75372872e+07,\n",
       "        3.74447302e+07, 3.73525643e+07, 3.72607880e+07, 3.71693995e+07,\n",
       "        3.70783972e+07, 3.69877794e+07, 3.68975447e+07, 3.68076912e+07,\n",
       "        3.67182175e+07, 3.66291219e+07, 3.65404028e+07, 3.64520586e+07,\n",
       "        3.63640878e+07, 3.62764887e+07, 3.61892599e+07, 3.61023996e+07,\n",
       "        3.60159065e+07, 3.59297788e+07, 3.58440151e+07, 3.57586139e+07,\n",
       "        3.56735736e+07, 3.55888926e+07, 3.55045696e+07, 3.54206028e+07,\n",
       "        3.53369909e+07, 3.52537324e+07, 3.51708257e+07, 3.50882693e+07,\n",
       "        3.50060619e+07, 3.49242018e+07, 3.48426877e+07, 3.47615181e+07,\n",
       "        3.46806915e+07, 3.46002065e+07, 3.45200616e+07, 3.44402554e+07,\n",
       "        3.43607864e+07, 3.42816533e+07, 3.42028546e+07, 3.41243889e+07,\n",
       "        3.40462548e+07, 3.39684509e+07, 3.38909758e+07, 3.38138281e+07,\n",
       "        3.37370064e+07, 3.36605094e+07, 3.35843357e+07, 3.35084838e+07,\n",
       "        3.34329526e+07, 3.33577405e+07, 3.32828462e+07, 3.32082685e+07,\n",
       "        3.31340059e+07, 3.30600572e+07, 3.29864209e+07, 3.29130959e+07,\n",
       "        3.28400807e+07, 3.27673741e+07, 3.26949747e+07, 3.26228813e+07,\n",
       "        3.25510926e+07, 3.24796073e+07, 3.24084240e+07, 3.23375416e+07,\n",
       "        3.22669587e+07, 3.21966741e+07, 3.21266865e+07, 3.20569947e+07,\n",
       "        3.19875974e+07, 3.19184934e+07, 3.18496814e+07, 3.17811602e+07,\n",
       "        3.17129286e+07, 3.16449853e+07, 3.15773292e+07, 3.15099589e+07,\n",
       "        3.14428734e+07, 3.13760714e+07, 3.13095517e+07, 3.12433131e+07,\n",
       "        3.11773544e+07, 3.11116745e+07, 3.10462721e+07, 3.09811461e+07,\n",
       "        3.09162953e+07, 3.08517186e+07, 3.07874148e+07, 3.07233828e+07,\n",
       "        3.06596213e+07, 3.05961293e+07, 3.05329056e+07, 3.04699492e+07,\n",
       "        3.04072587e+07, 3.03448332e+07, 3.02826715e+07, 3.02207725e+07,\n",
       "        3.01591351e+07, 3.00977581e+07, 3.00366405e+07, 2.99757813e+07,\n",
       "        2.99151792e+07, 2.98548332e+07, 2.97947422e+07, 2.97349052e+07,\n",
       "        2.96753210e+07, 2.96159887e+07, 2.95569071e+07, 2.94980751e+07,\n",
       "        2.94394918e+07, 2.93811561e+07, 2.93230669e+07, 2.92652232e+07,\n",
       "        2.92076239e+07, 2.91502680e+07, 2.90931546e+07, 2.90362824e+07,\n",
       "        2.89796507e+07, 2.89232582e+07, 2.88671041e+07, 2.88111873e+07,\n",
       "        2.87555067e+07, 2.87000615e+07, 2.86448506e+07, 2.85898730e+07,\n",
       "        2.85351278e+07, 2.84806139e+07, 2.84263304e+07, 2.83722763e+07,\n",
       "        2.83184506e+07, 2.82648524e+07, 2.82114807e+07, 2.81583345e+07,\n",
       "        2.81054129e+07, 2.80527150e+07, 2.80002398e+07, 2.79479863e+07,\n",
       "        2.78959537e+07, 2.78441409e+07, 2.77925472e+07, 2.77411714e+07,\n",
       "        2.76900128e+07, 2.76390703e+07, 2.75883432e+07, 2.75378304e+07,\n",
       "        2.74875311e+07, 2.74374443e+07, 2.73875692e+07, 2.73379049e+07,\n",
       "        2.72884505e+07, 2.72392050e+07, 2.71901677e+07, 2.71413376e+07,\n",
       "        2.70927139e+07, 2.70442956e+07, 2.69960820e+07, 2.69480721e+07,\n",
       "        2.69002651e+07, 2.68526601e+07, 2.68052563e+07, 2.67580529e+07,\n",
       "        2.67110489e+07, 2.66642435e+07, 2.66176360e+07, 2.65712254e+07,\n",
       "        2.65250110e+07, 2.64789918e+07, 2.64331671e+07, 2.63875361e+07,\n",
       "        2.63420979e+07, 2.62968518e+07, 2.62517968e+07, 2.62069323e+07,\n",
       "        2.61622574e+07, 2.61177712e+07, 2.60734731e+07, 2.60293621e+07,\n",
       "        2.59854376e+07, 2.59416987e+07, 2.58981446e+07, 2.58547746e+07,\n",
       "        2.58115878e+07, 2.57685836e+07, 2.57257611e+07, 2.56831196e+07,\n",
       "        2.56406583e+07, 2.55983764e+07, 2.55562732e+07, 2.55143480e+07,\n",
       "        2.54725999e+07, 2.54310282e+07, 2.53896322e+07, 2.53484112e+07,\n",
       "        2.53073644e+07, 2.52664910e+07, 2.52257904e+07, 2.51852617e+07,\n",
       "        2.51449043e+07, 2.51047175e+07, 2.50647005e+07, 2.50248527e+07,\n",
       "        2.49851732e+07, 2.49456614e+07, 2.49063166e+07, 2.48671380e+07,\n",
       "        2.48281250e+07, 2.47892769e+07, 2.47505930e+07, 2.47120725e+07,\n",
       "        2.46737148e+07, 2.46355193e+07, 2.45974851e+07, 2.45596117e+07,\n",
       "        2.45218983e+07, 2.44843443e+07, 2.44469490e+07, 2.44097118e+07,\n",
       "        2.43726319e+07, 2.43357087e+07, 2.42989415e+07, 2.42623297e+07,\n",
       "        2.42258727e+07, 2.41895697e+07, 2.41534201e+07, 2.41174233e+07,\n",
       "        2.40815786e+07, 2.40458854e+07, 2.40103430e+07, 2.39749508e+07,\n",
       "        2.39397082e+07, 2.39046146e+07, 2.38696692e+07, 2.38348715e+07,\n",
       "        2.38002209e+07, 2.37657167e+07, 2.37313584e+07, 2.36971452e+07,\n",
       "        2.36630766e+07, 2.36291520e+07, 2.35953707e+07, 2.35617322e+07,\n",
       "        2.35282359e+07, 2.34948811e+07, 2.34616673e+07, 2.34285938e+07,\n",
       "        2.33956601e+07, 2.33628656e+07, 2.33302097e+07, 2.32976917e+07,\n",
       "        2.32653112e+07, 2.32330676e+07, 2.32009602e+07, 2.31689884e+07,\n",
       "        2.31371518e+07, 2.31054498e+07, 2.30738817e+07, 2.30424470e+07,\n",
       "        2.30111452e+07, 2.29799756e+07, 2.29489378e+07, 2.29180311e+07,\n",
       "        2.28872550e+07, 2.28566090e+07, 2.28260926e+07, 2.27957050e+07,\n",
       "        2.27654459e+07, 2.27353147e+07, 2.27053108e+07, 2.26754337e+07,\n",
       "        2.26456828e+07, 2.26160577e+07, 2.25865578e+07, 2.25571825e+07,\n",
       "        2.25279314e+07, 2.24988039e+07, 2.24697995e+07, 2.24409177e+07,\n",
       "        2.24121579e+07, 2.23835197e+07, 2.23550025e+07, 2.23266058e+07,\n",
       "        2.22983291e+07, 2.22701719e+07, 2.22421337e+07, 2.22142139e+07,\n",
       "        2.21864122e+07, 2.21587280e+07, 2.21311607e+07, 2.21037100e+07,\n",
       "        2.20763752e+07, 2.20491560e+07, 2.20220518e+07, 2.19950622e+07,\n",
       "        2.19681866e+07, 2.19414245e+07, 2.19147756e+07, 2.18882393e+07,\n",
       "        2.18618152e+07, 2.18355027e+07, 2.18093014e+07, 2.17832108e+07,\n",
       "        2.17572305e+07, 2.17313600e+07, 2.17055988e+07, 2.16799465e+07,\n",
       "        2.16544025e+07, 2.16289666e+07, 2.16036381e+07, 2.15784167e+07,\n",
       "        2.15533018e+07, 2.15282931e+07, 2.15033901e+07, 2.14785923e+07,\n",
       "        2.14538993e+07, 2.14293106e+07, 2.14048259e+07, 2.13804446e+07,\n",
       "        2.13561664e+07, 2.13319908e+07, 2.13079173e+07, 2.12839456e+07,\n",
       "        2.12600752e+07, 2.12363057e+07, 2.12126366e+07, 2.11890675e+07,\n",
       "        2.11655980e+07, 2.11422278e+07, 2.11189562e+07, 2.10957831e+07,\n",
       "        2.10727078e+07, 2.10497301e+07, 2.10268495e+07, 2.10040655e+07,\n",
       "        2.09813779e+07, 2.09587861e+07, 2.09362898e+07, 2.09138886e+07,\n",
       "        2.08915820e+07, 2.08693698e+07, 2.08472513e+07, 2.08252264e+07,\n",
       "        2.08032945e+07, 2.07814553e+07, 2.07597084e+07, 2.07380534e+07,\n",
       "        2.07164900e+07, 2.06950176e+07, 2.06736360e+07, 2.06523447e+07,\n",
       "        2.06311435e+07, 2.06100318e+07, 2.05890093e+07, 2.05680757e+07,\n",
       "        2.05472306e+07, 2.05264735e+07, 2.05058042e+07, 2.04852222e+07,\n",
       "        2.04647271e+07, 2.04443187e+07, 2.04239966e+07, 2.04037603e+07,\n",
       "        2.03836095e+07, 2.03635439e+07, 2.03435631e+07, 2.03236668e+07,\n",
       "        2.03038545e+07, 2.02841259e+07, 2.02644808e+07, 2.02449186e+07,\n",
       "        2.02254391e+07, 2.02060419e+07, 2.01867267e+07, 2.01674932e+07,\n",
       "        2.01483409e+07, 2.01292695e+07, 2.01102788e+07, 2.00913682e+07,\n",
       "        2.00725377e+07, 2.00537866e+07, 2.00351149e+07, 2.00165220e+07,\n",
       "        1.99980077e+07, 1.99795717e+07, 1.99612135e+07, 1.99429330e+07,\n",
       "        1.99247297e+07, 1.99066033e+07, 1.98885535e+07, 1.98705800e+07,\n",
       "        1.98526825e+07, 1.98348606e+07, 1.98171140e+07, 1.97994424e+07,\n",
       "        1.97818455e+07, 1.97643230e+07, 1.97468745e+07, 1.97294997e+07,\n",
       "        1.97121984e+07, 1.96949701e+07, 1.96778147e+07, 1.96607318e+07,\n",
       "        1.96437211e+07, 1.96267823e+07, 1.96099150e+07, 1.95931190e+07,\n",
       "        1.95763941e+07, 1.95597397e+07, 1.95431558e+07, 1.95266420e+07,\n",
       "        1.95101979e+07, 1.94938233e+07, 1.94775180e+07, 1.94612815e+07,\n",
       "        1.94451137e+07, 1.94290142e+07, 1.94129827e+07, 1.93970189e+07,\n",
       "        1.93811227e+07, 1.93652936e+07, 1.93495314e+07, 1.93338358e+07,\n",
       "        1.93182065e+07, 1.93026433e+07, 1.92871459e+07, 1.92717139e+07,\n",
       "        1.92563472e+07, 1.92410454e+07, 1.92258083e+07, 1.92106355e+07,\n",
       "        1.91955269e+07, 1.91804822e+07, 1.91655010e+07, 1.91505831e+07,\n",
       "        1.91357283e+07, 1.91209362e+07, 1.91062067e+07, 1.90915394e+07,\n",
       "        1.90769340e+07, 1.90623905e+07, 1.90479083e+07, 1.90334874e+07,\n",
       "        1.90191274e+07, 1.90048281e+07, 1.89905892e+07, 1.89764105e+07,\n",
       "        1.89622917e+07, 1.89482326e+07, 1.89342329e+07, 1.89202924e+07,\n",
       "        1.89064108e+07, 1.88925878e+07, 1.88788233e+07, 1.88651169e+07,\n",
       "        1.88514684e+07, 1.88378777e+07, 1.88243443e+07, 1.88108682e+07,\n",
       "        1.87974490e+07, 1.87840865e+07, 1.87707805e+07, 1.87575307e+07,\n",
       "        1.87443369e+07, 1.87311988e+07, 1.87181163e+07, 1.87050891e+07,\n",
       "        1.86921169e+07, 1.86791995e+07, 1.86663368e+07, 1.86535284e+07,\n",
       "        1.86407741e+07, 1.86280737e+07, 1.86154270e+07, 1.86028337e+07,\n",
       "        1.85902937e+07, 1.85778066e+07, 1.85653723e+07, 1.85529906e+07,\n",
       "        1.85406612e+07, 1.85283839e+07, 1.85161585e+07, 1.85039847e+07,\n",
       "        1.84918624e+07, 1.84797913e+07, 1.84677713e+07, 1.84558020e+07,\n",
       "        1.84438833e+07, 1.84320150e+07, 1.84201968e+07, 1.84084286e+07,\n",
       "        1.83967101e+07, 1.83850411e+07, 1.83734215e+07, 1.83618509e+07,\n",
       "        1.83503293e+07, 1.83388563e+07, 1.83274318e+07, 1.83160556e+07,\n",
       "        1.83047275e+07, 1.82934472e+07, 1.82822147e+07, 1.82710296e+07,\n",
       "        1.82598917e+07, 1.82488009e+07, 1.82377570e+07, 1.82267598e+07,\n",
       "        1.82158090e+07, 1.82049046e+07, 1.81940462e+07, 1.81832337e+07,\n",
       "        1.81724668e+07, 1.81617455e+07, 1.81510695e+07, 1.81404386e+07,\n",
       "        1.81298526e+07, 1.81193114e+07, 1.81088147e+07, 1.80983624e+07,\n",
       "        1.80879543e+07, 1.80775901e+07, 1.80672697e+07, 1.80569930e+07,\n",
       "        1.80467596e+07, 1.80365696e+07, 1.80264226e+07, 1.80163184e+07,\n",
       "        1.80062570e+07, 1.79962381e+07, 1.79862615e+07, 1.79763271e+07,\n",
       "        1.79664346e+07, 1.79565840e+07, 1.79467750e+07, 1.79370075e+07,\n",
       "        1.79272812e+07, 1.79175961e+07, 1.79079518e+07, 1.78983483e+07,\n",
       "        1.78887854e+07, 1.78792630e+07, 1.78697807e+07, 1.78603386e+07,\n",
       "        1.78509363e+07, 1.78415738e+07, 1.78322508e+07, 1.78229672e+07,\n",
       "        1.78137229e+07, 1.78045176e+07, 1.77953513e+07, 1.77862236e+07,\n",
       "        1.77771346e+07, 1.77680840e+07, 1.77590716e+07, 1.77500972e+07,\n",
       "        1.77411609e+07, 1.77322622e+07, 1.77234012e+07, 1.77145777e+07,\n",
       "        1.77057914e+07, 1.76970422e+07, 1.76883301e+07, 1.76796547e+07,\n",
       "        1.76710160e+07, 1.76624138e+07, 1.76538480e+07, 1.76453184e+07,\n",
       "        1.76368248e+07, 1.76283671e+07, 1.76199451e+07, 1.76115588e+07,\n",
       "        1.76032078e+07, 1.75948922e+07, 1.75866117e+07, 1.75783662e+07,\n",
       "        1.75701556e+07, 1.75619796e+07, 1.75538382e+07, 1.75457312e+07,\n",
       "        1.75376585e+07, 1.75296199e+07, 1.75216152e+07, 1.75136444e+07,\n",
       "        1.75057073e+07, 1.74978037e+07, 1.74899335e+07, 1.74820966e+07,\n",
       "        1.74742927e+07, 1.74665219e+07, 1.74587839e+07, 1.74510786e+07,\n",
       "        1.74434059e+07, 1.74357656e+07, 1.74281576e+07, 1.74205817e+07,\n",
       "        1.74130378e+07, 1.74055259e+07, 1.73980456e+07, 1.73905970e+07,\n",
       "        1.73831799e+07, 1.73757941e+07, 1.73684395e+07, 1.73611160e+07,\n",
       "        1.73538235e+07, 1.73465617e+07, 1.73393307e+07, 1.73321302e+07,\n",
       "        1.73249601e+07, 1.73178204e+07, 1.73107108e+07, 1.73036313e+07,\n",
       "        1.72965816e+07, 1.72895618e+07, 1.72825716e+07, 1.72756110e+07,\n",
       "        1.72686798e+07, 1.72617779e+07, 1.72549052e+07, 1.72480615e+07,\n",
       "        1.72412467e+07, 1.72344607e+07, 1.72277034e+07, 1.72209746e+07,\n",
       "        1.72142743e+07, 1.72076023e+07, 1.72009585e+07, 1.71943428e+07,\n",
       "        1.71877550e+07, 1.71811951e+07, 1.71746629e+07, 1.71681583e+07,\n",
       "        1.71616812e+07, 1.71552314e+07, 1.71488090e+07, 1.71424136e+07,\n",
       "        1.71360453e+07, 1.71297039e+07, 1.71233893e+07, 1.71171014e+07,\n",
       "        1.71108400e+07, 1.71046051e+07, 1.70983966e+07, 1.70922143e+07,\n",
       "        1.70860581e+07, 1.70799280e+07, 1.70738237e+07, 1.70677453e+07,\n",
       "        1.70616925e+07, 1.70556653e+07, 1.70496636e+07, 1.70436872e+07,\n",
       "        1.70377362e+07, 1.70318102e+07, 1.70259093e+07, 1.70200333e+07,\n",
       "        1.70141822e+07, 1.70083558e+07, 1.70025540e+07, 1.69967767e+07,\n",
       "        1.69910239e+07, 1.69852953e+07, 1.69795910e+07, 1.69739108e+07,\n",
       "        1.69682545e+07, 1.69626222e+07, 1.69570137e+07, 1.69514289e+07,\n",
       "        1.69458677e+07, 1.69403300e+07, 1.69348157e+07, 1.69293247e+07,\n",
       "        1.69238569e+07, 1.69184122e+07, 1.69129905e+07, 1.69075917e+07,\n",
       "        1.69022157e+07, 1.68968625e+07, 1.68915319e+07, 1.68862238e+07,\n",
       "        1.68809381e+07, 1.68756748e+07, 1.68704337e+07, 1.68652148e+07,\n",
       "        1.68600179e+07, 1.68548430e+07, 1.68496900e+07, 1.68445587e+07,\n",
       "        1.68394491e+07, 1.68343612e+07, 1.68292947e+07, 1.68242496e+07,\n",
       "        1.68192258e+07, 1.68142233e+07, 1.68092419e+07, 1.68042816e+07,\n",
       "        1.67993422e+07, 1.67944237e+07, 1.67895260e+07, 1.67846490e+07,\n",
       "        1.67797926e+07, 1.67749567e+07, 1.67701413e+07, 1.67653462e+07,\n",
       "        1.67605714e+07, 1.67558167e+07, 1.67510822e+07, 1.67463676e+07,\n",
       "        1.67416730e+07, 1.67369982e+07, 1.67323432e+07, 1.67277078e+07,\n",
       "        1.67230920e+07, 1.67184958e+07, 1.67139189e+07, 1.67093614e+07,\n",
       "        1.67048232e+07, 1.67003041e+07, 1.66958042e+07, 1.66913232e+07,\n",
       "        1.66868612e+07, 1.66824181e+07, 1.66779937e+07, 1.66735880e+07,\n",
       "        1.66692010e+07, 1.66648324e+07, 1.66604824e+07, 1.66561507e+07,\n",
       "        1.66518373e+07, 1.66475422e+07, 1.66432652e+07, 1.66390063e+07,\n",
       "        1.66347654e+07, 1.66305424e+07, 1.66263372e+07, 1.66221499e+07,\n",
       "        1.66179802e+07, 1.66138281e+07, 1.66096936e+07, 1.66055766e+07,\n",
       "        1.66014769e+07, 1.65973946e+07, 1.65933295e+07, 1.65892816e+07,\n",
       "        1.65852509e+07, 1.65812371e+07, 1.65772403e+07, 1.65732604e+07,\n",
       "        1.65692974e+07, 1.65653510e+07, 1.65614214e+07, 1.65575083e+07,\n",
       "        1.65536118e+07, 1.65497318e+07, 1.65458681e+07, 1.65420208e+07,\n",
       "        1.65381898e+07, 1.65343749e+07, 1.65305762e+07, 1.65267935e+07]))"
      ]
     },
     "execution_count": 85,
     "metadata": {},
     "output_type": "execute_result"
    }
   ],
   "source": [
    "theta_final, cost_history = gradient_descent(X, y, theta, learning_rate, n_iterations)\n",
    "\n",
    "gradient_descent(X, y, theta, learning_rate, n_iterations)"
   ]
  },
  {
   "cell_type": "markdown",
   "metadata": {},
   "source": [
    "**Exercise :** \n",
    "1. Create a ``predictions`` variable that contains model(X, theta_final).\n",
    "2. Use matplotlib to display the x and y scatter plot.\n",
    "3. Use the plot method to display your predictions. \n"
   ]
  },
  {
   "cell_type": "code",
   "execution_count": 86,
   "metadata": {},
   "outputs": [
    {
     "data": {
      "image/png": "[encoded data removed]",
      "text/plain": [
       "<Figure size 432x288 with 1 Axes>"
      ]
     },
     "metadata": {
      "needs_background": "light"
     },
     "output_type": "display_data"
    }
   ],
   "source": [
    "import matplotlib.pyplot as plt \n",
    "\n",
    "predictions = np.dot(X, theta_final)\n",
    "x = X[:, 0]\n",
    "\n",
    "plt.scatter(x, y, color='b')\n",
    "plt.plot(x, predictions, color='r')\n",
    "plt.show()"
   ]
  },
  {
   "cell_type": "markdown",
   "metadata": {},
   "source": [
    "You should have something like this. \n",
    "![](./assets/final_theta.png)"
   ]
  },
  {
   "cell_type": "markdown",
   "metadata": {},
   "source": [
    "If not, change the learning rate and the number of iterations."
   ]
  },
  {
   "cell_type": "markdown",
   "metadata": {},
   "source": [
    "### Learning curves\n",
    "To check if our Gradient Descent algorithm worked well, we observe the evolution of the cost function through iterations. We are supposed to obtain a curve that decreases with each iteration until it stagnates at a minimal level (close to zero). If the curve does not follow this pattern, then the learning_rate step may be too high, we should take a lower step."
   ]
  },
  {
   "cell_type": "code",
   "execution_count": 87,
   "metadata": {},
   "outputs": [
    {
     "data": {
      "image/png": "[encoded data removed]",
      "text/plain": [
       "<Figure size 432x288 with 1 Axes>"
      ]
     },
     "metadata": {
      "needs_background": "light"
     },
     "output_type": "display_data"
    }
   ],
   "source": [
    "plt.plot(cost_history)\n",
    "plt.show()\n"
   ]
  },
  {
   "cell_type": "markdown",
   "metadata": {},
   "source": [
    "You should have something like this: \n",
    "![](./assets/learning_curve.png)"
   ]
  },
  {
   "cell_type": "markdown",
   "metadata": {},
   "source": [
    "On this histogram, we can see that after 400 iterations, the model no longer learns and becomes constant. We can thus redefine the n_iterations to 400"
   ]
  },
  {
   "cell_type": "markdown",
   "metadata": {},
   "source": [
    "### Evaluation\n",
    "\n",
    "To evaluate the real performance of our model with a popular metric (for your boss, client, or colleagues) we can use the coefficient of determination, also known as $R^2$. It comes from the method of least squares. The closer the result is to 1, the better your model is."
   ]
  },
  {
   "cell_type": "code",
   "execution_count": 88,
   "metadata": {},
   "outputs": [],
   "source": [
    "def coef_determination(y, pred):\n",
    "    u = ((y - pred)**2).sum()\n",
    "    v = ((y - y.mean())**2).sum()\n",
    "    return 1 - u/v"
   ]
  },
  {
   "cell_type": "code",
   "execution_count": 89,
   "metadata": {},
   "outputs": [
    {
     "data": {
      "text/plain": [
       "0.9545029311262251"
      ]
     },
     "execution_count": 89,
     "metadata": {},
     "output_type": "execute_result"
    }
   ],
   "source": [
    "coef_determination(y, predictions)"
   ]
  },
  {
   "cell_type": "markdown",
   "metadata": {},
   "source": [
    "### The end\n",
    "Ok ok, you just built your own model of linear regression, do you realize that? \n",
    "This part was a bit theoretical, but it's essential to understand how it works.  \n",
    "![tired.gif](./assets/tired.gif)"
   ]
  }
 ],
 "metadata": {
  "colab": {
   "collapsed_sections": [],
   "name": "Copie de linearregression.ipynb",
   "provenance": []
  },
  "kernelspec": {
   "display_name": "Python 3",
   "language": "python",
   "name": "python3"
  },
  "language_info": {
   "codemirror_mode": {
    "name": "ipython",
    "version": 3
   },
   "file_extension": ".py",
   "mimetype": "text/x-python",
   "name": "python",
   "nbconvert_exporter": "python",
   "pygments_lexer": "ipython3",
   "version": "3.8.8"
  }
 },
 "nbformat": 4,
 "nbformat_minor": 1
}
