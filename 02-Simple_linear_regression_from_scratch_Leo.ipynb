{
 "cells": [
  {
   "cell_type": "markdown",
   "metadata": {
    "id": "oGRCdv2_63Fm"
   },
   "source": [
    "# Linear regression\n",
    "\n",
    "Now that we've created our first learning machine model, let's see how it works under the hood."
   ]
  },
  {
   "cell_type": "markdown",
   "metadata": {
    "id": "4IHjwpyJmYz0"
   },
   "source": [
    "## How does it work?\n",
    "Here comes a part that some of you fear: Mathematics!    \n",
    "\n",
    "But don't worry, you'll see that it's not that complicated.\n",
    "\n",
    "### How to calculate the y-axis from the x-axis?"
   ]
  },
  {
   "cell_type": "markdown",
   "metadata": {
    "id": "rPLnFMBxs4C9"
   },
   "source": [
    "A linear model is in fact based on a simple [affine function.](https://fr.wikipedia.org/wiki/Fonction_affine) !"
   ]
  },
  {
   "cell_type": "markdown",
   "metadata": {
    "id": "2XTFIZfapioo"
   },
   "source": [
    "$$f(x) = ax + b$$\n",
    "or ...\n",
    "$$y = f(x) = ax + b$$\n",
    "or..."
   ]
  },
  {
   "cell_type": "markdown",
   "metadata": {},
   "source": [
    "```py\n",
    "y = a*x + b\n",
    "```"
   ]
  },
  {
   "cell_type": "markdown",
   "metadata": {},
   "source": [
    "**Exercise :** Create a function ``f`` which receives as a parameter the variables ``x``,``a`` and ``b`` and returns ``y``"
   ]
  },
  {
   "cell_type": "code",
   "execution_count": 2,
   "metadata": {},
   "outputs": [
    {
     "data": {
      "text/plain": [
       "9"
      ]
     },
     "execution_count": 2,
     "metadata": {},
     "output_type": "execute_result"
    }
   ],
   "source": [
    "def f(x, a, b):\n",
    "    y = a*x + b\n",
    "    return y\n",
    "\n",
    "f(1, 4, 5)    "
   ]
  },
  {
   "cell_type": "markdown",
   "metadata": {},
   "source": [
    "This function will allow us to create a straight line that passes through all the points as well as possible. For the moment, we do not know the value of parameters a and b, so it is impossible to draw a good straight line on the scatter plot, unless we choose parameters at random. And that is what we are going to do."
   ]
  },
  {
   "cell_type": "markdown",
   "metadata": {
    "id": "nl6jA7JTdoO8"
   },
   "source": [
    "\n",
    "The linear model with random parameters would look something like this: "
   ]
  },
  {
   "cell_type": "markdown",
   "metadata": {
    "id": "a6Va6jerdvjC"
   },
   "source": [
    "![image.png](./assets/random_bias.png)\n"
   ]
  },
  {
   "cell_type": "markdown",
   "metadata": {
    "id": "2x4DbSIbeQNA"
   },
   "source": [
    "But we want to achieve this result:"
   ]
  },
  {
   "cell_type": "markdown",
   "metadata": {
    "id": "w7hNlrnOezsy"
   },
   "source": [
    "![](./assets/trained_bias.png)"
   ]
  },
  {
   "cell_type": "markdown",
   "metadata": {
    "id": "mKo1rgh_fA7O"
   },
   "source": [
    "And it will be the role of the machine to learn how to find these values (a and b) by minimizing the cost function that we will see in detail in the next chapter.\n",
    "\n",
    "Before we do that, we need to look at the small problem we have with this method. If we execute the function as is, we would have to make a loop for each element $x^{i}$ of our dataset. This can be very expensive in terms of machine resources. If your dataset is very large, it will take a lot of time to train your model. \n",
    "\n",
    "To solve this problem, it is usual to use something you are beginning to know, matrices! \n",
    "\n",
    "The matrices allow us to perform the function only once on our entire dataset. \n",
    "\n",
    "The matrix writing of $f(x)=ax+b$ is written like this:\n",
    "$$ F = X . \\theta$$\n",
    "\n",
    "As these are matrices that contain all the data, by convention, we put them in uppercase.\n",
    "\n",
    "The variable $F$ will contain a matrix with the set of predictions of $x^{(i)}$. \n",
    "\n",
    "$$ \n",
    "F \\\\\n",
    "\\begin{bmatrix}\n",
    "f(x^{(1)})\\\\\n",
    "f(x^{(2)})\\\\\n",
    "f(x^{(3)})\\\\\n",
    "... \\\\\n",
    "f(x^{(m)})\\\\\n",
    "\\end{bmatrix}\n",
    "$$"
   ]
  },
  {
   "cell_type": "markdown",
   "metadata": {},
   "source": [
    "The variable $\\theta$ (pronounced theta) will contain a vector with the values $a$ and $b$."
   ]
  },
  {
   "cell_type": "markdown",
   "metadata": {},
   "source": [
    "$$\n",
    "\\theta \\\\\n",
    "\\begin{bmatrix}\n",
    "a \\\\\n",
    "b \\\\\n",
    "\\end{bmatrix}\n",
    "$$"
   ]
  },
  {
   "cell_type": "markdown",
   "metadata": {},
   "source": [
    "The variable $X$ will contain a matrix with two dimensions, one dimension with the value of $x^{(i)}$ and another dimension with 1's everywhere.  Why? Because we have to multiply our X and theta matrices.\n",
    "$$ \n",
    "\\begin{equation*}\n",
    "\\begin{bmatrix}\n",
    "x^{(1)} && 1\\\\\n",
    "x^{(2)} && 1\\\\\n",
    "x^{(3)} && 1\\\\\n",
    "... \\\\\n",
    "x^{(m)} && 1\\\\\n",
    "\\end{bmatrix}\n",
    ".\n",
    "\\begin{bmatrix}\n",
    "a \\\\\n",
    "b \\\\\n",
    "\\end{bmatrix}\n",
    "\\end{equation*}\n",
    "$$\n",
    "\n",
    "![](./assets/dot_mat.jpg)"
   ]
  },
  {
   "cell_type": "markdown",
   "metadata": {},
   "source": [
    "Which amounts to writing this: \n",
    "$$ y^{(1)} = x^{(1)}* a + 1 * b$$\n",
    "\n",
    "And if we simplify:\n",
    "$$ y^{(1)} = ax^{(1)} + b$$\n",
    "\n",
    "\n",
    "So we are back to our original function.\n"
   ]
  },
  {
   "cell_type": "markdown",
   "metadata": {},
   "source": [
    "**Exercise :**\n",
    "1. Create a variable ``X`` which contains a matrix (30,2) with a column filled with values of our dataframe and then another one with 1's. \n",
    "2. Create the ``theta`` variable which contains a vector with 2 random values.\n",
    "3. Create a variable ``F`` which contains a multiplication of the matrix X with the theta vector."
   ]
  },
  {
   "cell_type": "markdown",
   "metadata": {},
   "source": [
    "**Exercise :** Create a ``model`` function that receives as parameter ``X`` and ``theta``.  The function must return ``F``. "
   ]
  },
  {
   "cell_type": "code",
   "execution_count": 3,
   "metadata": {},
   "outputs": [
    {
     "name": "stdout",
     "output_type": "stream",
     "text": [
      "[[4.27179757]\n",
      " [4.35524969]\n",
      " [4.4387018 ]\n",
      " [4.64733208]\n",
      " [4.73078419]\n",
      " [5.02286658]\n",
      " [5.06459263]\n",
      " [5.14804474]\n",
      " [5.14804474]\n",
      " [5.35667502]\n",
      " [5.44012713]\n",
      " [5.48185319]\n",
      " [5.48185319]\n",
      " [5.52357924]\n",
      " [5.69048347]\n",
      " [5.85738769]\n",
      " [5.9408398 ]\n",
      " [6.02429191]\n",
      " [6.27464824]\n",
      " [6.3163743 ]\n",
      " [6.65018274]\n",
      " [6.77536091]\n",
      " [7.10916936]\n",
      " [7.23434752]\n",
      " [7.4429778 ]\n",
      " [7.56815597]\n",
      " [7.77678625]\n",
      " [7.8185123 ]\n",
      " [8.11059469]\n",
      " [8.1940468 ]]\n"
     ]
    }
   ],
   "source": [
    "import numpy as np\n",
    "import pandas as pd\n",
    "\n",
    "df = pd.read_csv(\"./data/salary_data.csv\")\n",
    "\n",
    "X = np.empty([30, 2], dtype=float)\n",
    "X[:,0] = df.iloc[:, 0].values\n",
    "X[:,1] = 1     #filling another column with 1's\n",
    "\n",
    "\n",
    "theta = np.random.normal(size=2).reshape(2,1)\n",
    "\n",
    "F = np.dot(X, theta)\n",
    "print(F)\n",
    "\n",
    "#X = X.reshape(30,2)\n",
    "#X = np.arange(30, 2)\n",
    "#theta = np.random.random((a,b)).reshape\n",
    "#dot function numpy\n",
    "#F = X * theta # there is a function in numpy to do this\n",
    "\n"
   ]
  },
  {
   "cell_type": "markdown",
   "metadata": {},
   "source": [
    "**Exercise :** Create a ``y_pred`` variable and use your `model` function with ``X, theta``"
   ]
  },
  {
   "cell_type": "code",
   "execution_count": 4,
   "metadata": {},
   "outputs": [],
   "source": [
    "y_pred = np.dot(X, theta)"
   ]
  },
  {
   "cell_type": "markdown",
   "metadata": {},
   "source": [
    "Now we know how to apply our model to our entire dataset. Now we have to know how to find the right values for a and b. For that we will have to calculate the average of all our errors with a cost function."
   ]
  },
  {
   "cell_type": "markdown",
   "metadata": {
    "id": "XKaQ28Hafn_h"
   },
   "source": [
    "### Cost function"
   ]
  },
  {
   "cell_type": "markdown",
   "metadata": {
    "id": "VRBuUaU2ftck"
   },
   "source": [
    "The cost function allows us to evaluate the performance of our model by measuring the errors between the prediction and the actual value. The question we ask ourselves is: How to measure these errors?\n",
    "\n",
    "Imagine that you have 4 years of experience and that you spend 90000€ per year. Your Machine Learning model predicts that this salary is worth €110000. You can conclude that your model therefore makes an error of 90000 - 110000 = -20000 €.\n",
    "\n",
    "Thus, you could say that to measure your errors, you have to calculate the difference $f(x)-y$. However, if your prediction f(x) is less than y, then this error is negative (as in the example above), and it is not very practical to minimize this function.\n",
    "\n",
    "So, to measure the errors between the $f(x)$ predictions and the y-values of the Dataset, we calculate the square of the difference: $(f(x)-y)^2$. This, by the way, is what is called the Euclidean norm, which represents the direct distance between $f(x)$ and y in Euclidean geometry.\n"
   ]
  },
  {
   "cell_type": "markdown",
   "metadata": {
    "id": "yJFTEvD8wb7b"
   },
   "source": [
    "\n",
    "\n",
    "![image.png](./assets/eucli.JPG)"
   ]
  },
  {
   "cell_type": "markdown",
   "metadata": {
    "id": "xa-c_X4xt2vO"
   },
   "source": [
    "But this is not enough. Indeed, we have the error of a single example. But we must have the average of all the errors of all the points. \n",
    "\n",
    "We could write it like this: \n",
    "\n",
    "\n",
    "\n",
    "$$MSE(a,b) = {\\dfrac{(f(x^{(1)})- y^{(1)})^2 + (f(x^{(2)})- y^{(2)})^2  + ... +(f(x^{(m)})- y^{(m)})^2}{m}}$$"
   ]
  },
  {
   "cell_type": "markdown",
   "metadata": {
    "id": "1GUWy24S5b27"
   },
   "source": [
    "Why $MSE$? Because this function is called **Mean Squared Error**"
   ]
  },
  {
   "cell_type": "markdown",
   "metadata": {
    "id": "ImWIompHxm2Q"
   },
   "source": [
    "By convention this function is written in the following way, adding a coefficient $\\frac{1}{2}$ to simplify a derivative calculation that will come later.\n",
    "\n",
    "$$ MSE(a, b) = {\\dfrac{1}{2m}} \\sum _ {i=1}^m (f(x^{(i)}) - y^{(i)})^2$$\n",
    "\n",
    "Or\n",
    "\n",
    "$$ MSE(a, b) = {\\dfrac{1}{2m}} \\sum _ {i=1}^m (ax^{(i)} +b - y^{(i)})^2$$\n"
   ]
  },
  {
   "cell_type": "markdown",
   "metadata": {},
   "source": [
    "But as we work with matrices, we also have to transcribe our formula which becomes : \n",
    "\n",
    "$$MSE(\\theta) = \\frac {1}{2m}  \\sum _ {i=1}^m (X . \\theta - y)^2$$"
   ]
  },
  {
   "cell_type": "markdown",
   "metadata": {},
   "source": [
    "or \n",
    "\n",
    "```py\n",
    "MSE = 1/(2*m) * sum((X * theta - y)**2)\n",
    "```"
   ]
  },
  {
   "cell_type": "markdown",
   "metadata": {
    "id": "47zckFxMQiVs"
   },
   "source": [
    "**Exercise :** Create a ``MSE`` function that receives as parameter ``X, y and theta`` using the example above."
   ]
  },
  {
   "cell_type": "code",
   "execution_count": 5,
   "metadata": {},
   "outputs": [
    {
     "name": "stdout",
     "output_type": "stream",
     "text": [
      "[3.25098867e+09]\n"
     ]
    }
   ],
   "source": [
    "m = len(df)\n",
    "\n",
    "y = np.empty([30,1])\n",
    "y[:,0] = df.iloc[:, -1].values.T\n",
    "\n",
    "MSE = 1/(2*m) * sum((y_pred - y)**2)\n",
    "print(MSE)"
   ]
  },
  {
   "cell_type": "markdown",
   "metadata": {
    "id": "s_2cfr2DOB9X"
   },
   "source": [
    "### Minimize the cost function.\n",
    "\n",
    "\n",
    "\n",
    "If the cost function is omitted with respect to the parameter, it looks something like this:"
   ]
  },
  {
   "cell_type": "markdown",
   "metadata": {
    "id": "ASRXsJyO__ic"
   },
   "source": [
    "![image.png](./assets/convexe.png)"
   ]
  },
  {
   "cell_type": "markdown",
   "metadata": {
    "id": "55-cHhR_DBNI"
   },
   "source": [
    "The aim is therefore to reach the lowest point of the curve, i.e. the lowest possible sum of errors. "
   ]
  },
  {
   "cell_type": "markdown",
   "metadata": {
    "id": "cqyzIhPKDMc_"
   },
   "source": [
    "![image.png](./assets/gradient_descent.png)"
   ]
  },
  {
   "cell_type": "markdown",
   "metadata": {},
   "source": [
    "To do this, there are several function minimization algorithms, such as the least squares method or **gradient descent**. We will focus here on gradient descent because it is one of the most widely used."
   ]
  },
  {
   "cell_type": "markdown",
   "metadata": {
    "id": "7gmDtf6l-f7T"
   },
   "source": [
    "Gradient descent is an iterative algorithm which therefore proceeds by progressive improvements. For a linear problem, this algorithm needs to have two hyper-parameters :\n",
    "\n",
    "**1. The number of iterations :** As its name indicates, this is the parameter that will determine the number of iterations.\n",
    "\n",
    "**2. The learning rate :** This is the length of the step between each iteration. "
   ]
  },
  {
   "cell_type": "markdown",
   "metadata": {
    "id": "KMJ0V9J6HQZa"
   },
   "source": [
    "![learningrate](./assets/gradient_descent_1.gif)"
   ]
  },
  {
   "cell_type": "markdown",
   "metadata": {},
   "source": [
    "It is important to clearly define the learning rate. If you set a high value, the algorithm will be faster, but you risk never reaching the lowest point of the curve, the steps being too big. Our model will never be able to work since it cannot find the minimum of the cost function."
   ]
  },
  {
   "cell_type": "markdown",
   "metadata": {
    "id": "TASxiF6zHnq0"
   },
   "source": [
    "![](./assets/gradient_descent_2.gif)"
   ]
  },
  {
   "cell_type": "markdown",
   "metadata": {},
   "source": [
    "Conversely, if you set a small value, then the algorithm will find the lowest point of the curve, but it will be slower."
   ]
  },
  {
   "cell_type": "markdown",
   "metadata": {
    "id": "9on9fx_9HhYb"
   },
   "source": [
    "![learning rate](./assets/gradient_descent_3.gif)"
   ]
  },
  {
   "cell_type": "markdown",
   "metadata": {},
   "source": [
    "At each iteration, we will have to calculate the regression slope. \n",
    "![](./assets/derivative.gif)"
   ]
  },
  {
   "cell_type": "markdown",
   "metadata": {},
   "source": [
    "And in mathematics we calculate a slope with a [partial derivative](https://en.wikipedia.org/wiki/Partial_derivative#:~:text=In%20mathematics%2C%20a%20partial%20derivative,vector%20calculus%20and%20differential%20geometry.). The symbol used to denote partial derivatives is $\\partial$. "
   ]
  },
  {
   "cell_type": "markdown",
   "metadata": {},
   "source": [
    "$$ \\frac {\\partial MSE(\\theta) }{\\partial \\theta}  = \\frac {1}{m} X^T.(X.\\theta - y)$$\n",
    "\n",
    "The $X^T$ is to transpose the matrix, just like in numpy."
   ]
  },
  {
   "cell_type": "markdown",
   "metadata": {},
   "source": [
    "You could translate this into code like this:\n",
    "\n",
    "```py\n",
    "1/m * X.T.dot(model(X, theta) - y)\n",
    "```\n",
    "\n"
   ]
  },
  {
   "cell_type": "code",
   "execution_count": 6,
   "metadata": {},
   "outputs": [],
   "source": [
    "def grad(X, y, theta):\n",
    "    m = len(y)\n",
    "    return 1/m * X.T.dot(np.dot(X, theta) - y)"
   ]
  },
  {
   "cell_type": "markdown",
   "metadata": {},
   "source": [
    "We still have to write the gradient descent. \n",
    "\n",
    "$$\\theta = \\theta - a .  \\frac {\\partial MSE(\\theta) }{\\partial \\theta}$$\n",
    "\n",
    "The variable $a$ is the learning rate. So at each iteration, we redefine theta. We do : ``theta`` - ``learning_rate`` multiplied by the partial derivative of mean squared error. You could translate this into code like this:"
   ]
  },
  {
   "cell_type": "markdown",
   "metadata": {},
   "source": [
    "```py\n",
    "theta = theta - learning_rate * grad(X, y, theta)\n",
    "```"
   ]
  },
  {
   "cell_type": "markdown",
   "metadata": {},
   "source": [
    "**Exercise :**\n",
    "1. Create a `gradient_descent` function that receives as parameter ``X``, ``y``, ``theta``, ``learning_rate``, ``n_iterations``\n",
    "2. In the function, create a variable `cost_history` with a matrix filled with 0 and which has a length of `n_iterations`. We will use it to display the histogram of the model learning process.\n",
    "3. Create a loop that iterates up to ``n_iterations``\n",
    "4. In the loop, update ``theta`` with the formula of the gradient descent (The example above) \n",
    "5. In the loop, update ``cost_history[i]`` with the values of ``MSE(X,y,theta)``\n",
    "6. return `theta` and `cost_history`"
   ]
  },
  {
   "cell_type": "code",
   "execution_count": 7,
   "metadata": {},
   "outputs": [],
   "source": [
    "#theta_final, cost_history = gradiente_descedent(X, y, theta, learning_rate, n_iterations)\n",
    "#print(theta_final)\n",
    "\n",
    "def mse(X, y, theta):\n",
    "    return 1/(2*m)*sum((np.dot(X, theta) - y)**2)\n",
    "\n",
    "def gradient_descent(X, y, theta, learning_rate, n_iterations):\n",
    "    cost_history = np.zeros(n_iterations)\n",
    "    \n",
    "    for i in range(n_iterations):\n",
    "        theta = theta - learning_rate * grad(X, y, theta)\n",
    "        cost_history[i] = mse(X, y, theta)\n",
    "        \n",
    "    return (theta, cost_history)"
   ]
  },
  {
   "cell_type": "markdown",
   "metadata": {},
   "source": [
    "### Train your model\n",
    "\n",
    "Now that we know which algorithm is used to minimize the cost function, we train our model.   \n",
    "We define a number of iterations, and a learning step $\\alpha$, and here we go!\n",
    "\n",
    "Once the model is trained, we observe the results compared to our dataset.\n",
    "\n",
    "**Exercise :** Create variables `n_iterations` and `learning_rate`. \n",
    "The learning rate and the n_iterations are defined by looking a little. You have to try several things, there is no magic number. However, starting with 1000 iterations and a learning_rate of 0.01 is a good basis to start training."
   ]
  },
  {
   "cell_type": "code",
   "execution_count": 8,
   "metadata": {},
   "outputs": [],
   "source": [
    "n_iterations = 1000\n",
    "learning_rate = 0.01"
   ]
  },
  {
   "cell_type": "markdown",
   "metadata": {},
   "source": [
    "**Exercise:** Create variables ``theta_final``, ``cost history`` and instance ``gradient_descent()``."
   ]
  },
  {
   "cell_type": "code",
   "execution_count": 9,
   "metadata": {},
   "outputs": [
    {
     "data": {
      "text/plain": [
       "(array([[ 9876.04721566],\n",
       "        [22920.92718644]]),\n",
       " array([1.34440596e+09, 5.82839902e+08, 2.78547195e+08, 1.56871366e+08,\n",
       "        1.08125881e+08, 8.85064311e+07, 8.05193701e+07, 7.71784498e+07,\n",
       "        7.56936467e+07, 7.49507371e+07, 7.45047428e+07, 7.41779554e+07,\n",
       "        7.38994027e+07, 7.36407385e+07, 7.33906400e+07, 7.31445826e+07,\n",
       "        7.29007569e+07, 7.26584375e+07, 7.24173322e+07, 7.21773218e+07,\n",
       "        7.19383559e+07, 7.17004121e+07, 7.14634786e+07, 7.12275483e+07,\n",
       "        7.09926159e+07, 7.07586765e+07, 7.05257259e+07, 7.02937599e+07,\n",
       "        7.00627741e+07, 6.98327645e+07, 6.96037269e+07, 6.93756572e+07,\n",
       "        6.91485513e+07, 6.89224052e+07, 6.86972148e+07, 6.84729760e+07,\n",
       "        6.82496849e+07, 6.80273374e+07, 6.78059295e+07, 6.75854573e+07,\n",
       "        6.73659168e+07, 6.71473041e+07, 6.69296153e+07, 6.67128464e+07,\n",
       "        6.64969935e+07, 6.62820529e+07, 6.60680206e+07, 6.58548928e+07,\n",
       "        6.56426657e+07, 6.54313354e+07, 6.52208983e+07, 6.50113504e+07,\n",
       "        6.48026881e+07, 6.45949076e+07, 6.43880051e+07, 6.41819771e+07,\n",
       "        6.39768197e+07, 6.37725293e+07, 6.35691022e+07, 6.33665349e+07,\n",
       "        6.31648235e+07, 6.29639646e+07, 6.27639546e+07, 6.25647898e+07,\n",
       "        6.23664666e+07, 6.21689816e+07, 6.19723311e+07, 6.17765117e+07,\n",
       "        6.15815198e+07, 6.13873519e+07, 6.11940046e+07, 6.10014744e+07,\n",
       "        6.08097578e+07, 6.06188514e+07, 6.04287518e+07, 6.02394555e+07,\n",
       "        6.00509592e+07, 5.98632595e+07, 5.96763530e+07, 5.94902364e+07,\n",
       "        5.93049063e+07, 5.91203594e+07, 5.89365924e+07, 5.87536020e+07,\n",
       "        5.85713849e+07, 5.83899378e+07, 5.82092576e+07, 5.80293409e+07,\n",
       "        5.78501845e+07, 5.76717853e+07, 5.74941400e+07, 5.73172454e+07,\n",
       "        5.71410983e+07, 5.69656957e+07, 5.67910343e+07, 5.66171110e+07,\n",
       "        5.64439227e+07, 5.62714663e+07, 5.60997387e+07, 5.59287369e+07,\n",
       "        5.57584576e+07, 5.55888980e+07, 5.54200550e+07, 5.52519255e+07,\n",
       "        5.50845064e+07, 5.49177949e+07, 5.47517880e+07, 5.45864825e+07,\n",
       "        5.44218757e+07, 5.42579645e+07, 5.40947459e+07, 5.39322172e+07,\n",
       "        5.37703752e+07, 5.36092172e+07, 5.34487403e+07, 5.32889416e+07,\n",
       "        5.31298181e+07, 5.29713671e+07, 5.28135857e+07, 5.26564712e+07,\n",
       "        5.25000205e+07, 5.23442311e+07, 5.21891000e+07, 5.20346244e+07,\n",
       "        5.18808017e+07, 5.17276291e+07, 5.15751037e+07, 5.14232230e+07,\n",
       "        5.12719840e+07, 5.11213843e+07, 5.09714209e+07, 5.08220913e+07,\n",
       "        5.06733928e+07, 5.05253226e+07, 5.03778782e+07, 5.02310569e+07,\n",
       "        5.00848561e+07, 4.99392731e+07, 4.97943053e+07, 4.96499502e+07,\n",
       "        4.95062051e+07, 4.93630675e+07, 4.92205348e+07, 4.90786044e+07,\n",
       "        4.89372739e+07, 4.87965406e+07, 4.86564020e+07, 4.85168556e+07,\n",
       "        4.83778990e+07, 4.82395296e+07, 4.81017450e+07, 4.79645426e+07,\n",
       "        4.78279201e+07, 4.76918749e+07, 4.75564046e+07, 4.74215069e+07,\n",
       "        4.72871792e+07, 4.71534192e+07, 4.70202244e+07, 4.68875926e+07,\n",
       "        4.67555212e+07, 4.66240080e+07, 4.64930505e+07, 4.63626465e+07,\n",
       "        4.62327935e+07, 4.61034894e+07, 4.59747316e+07, 4.58465180e+07,\n",
       "        4.57188462e+07, 4.55917140e+07, 4.54651190e+07, 4.53390590e+07,\n",
       "        4.52135317e+07, 4.50885349e+07, 4.49640664e+07, 4.48401239e+07,\n",
       "        4.47167051e+07, 4.45938079e+07, 4.44714301e+07, 4.43495694e+07,\n",
       "        4.42282237e+07, 4.41073908e+07, 4.39870686e+07, 4.38672548e+07,\n",
       "        4.37479474e+07, 4.36291442e+07, 4.35108430e+07, 4.33930418e+07,\n",
       "        4.32757384e+07, 4.31589307e+07, 4.30426167e+07, 4.29267942e+07,\n",
       "        4.28114611e+07, 4.26966155e+07, 4.25822552e+07, 4.24683782e+07,\n",
       "        4.23549824e+07, 4.22420658e+07, 4.21296264e+07, 4.20176622e+07,\n",
       "        4.19061712e+07, 4.17951513e+07, 4.16846006e+07, 4.15745170e+07,\n",
       "        4.14648987e+07, 4.13557437e+07, 4.12470499e+07, 4.11388154e+07,\n",
       "        4.10310384e+07, 4.09237168e+07, 4.08168488e+07, 4.07104324e+07,\n",
       "        4.06044657e+07, 4.04989468e+07, 4.03938738e+07, 4.02892449e+07,\n",
       "        4.01850581e+07, 4.00813117e+07, 3.99780036e+07, 3.98751322e+07,\n",
       "        3.97726954e+07, 3.96706916e+07, 3.95691189e+07, 3.94679753e+07,\n",
       "        3.93672593e+07, 3.92669688e+07, 3.91671022e+07, 3.90676576e+07,\n",
       "        3.89686333e+07, 3.88700274e+07, 3.87718382e+07, 3.86740640e+07,\n",
       "        3.85767030e+07, 3.84797535e+07, 3.83832136e+07, 3.82870817e+07,\n",
       "        3.81913561e+07, 3.80960350e+07, 3.80011167e+07, 3.79065996e+07,\n",
       "        3.78124819e+07, 3.77187619e+07, 3.76254380e+07, 3.75325085e+07,\n",
       "        3.74399717e+07, 3.73478260e+07, 3.72560696e+07, 3.71647010e+07,\n",
       "        3.70737186e+07, 3.69831206e+07, 3.68929056e+07, 3.68030717e+07,\n",
       "        3.67136175e+07, 3.66245413e+07, 3.65358416e+07, 3.64475167e+07,\n",
       "        3.63595651e+07, 3.62719851e+07, 3.61847753e+07, 3.60979340e+07,\n",
       "        3.60114597e+07, 3.59253509e+07, 3.58396059e+07, 3.57542233e+07,\n",
       "        3.56692015e+07, 3.55845391e+07, 3.55002344e+07, 3.54162860e+07,\n",
       "        3.53326923e+07, 3.52494519e+07, 3.51665633e+07, 3.50840250e+07,\n",
       "        3.50018355e+07, 3.49199933e+07, 3.48384970e+07, 3.47573451e+07,\n",
       "        3.46765361e+07, 3.45960686e+07, 3.45159412e+07, 3.44361524e+07,\n",
       "        3.43567008e+07, 3.42775850e+07, 3.41988034e+07, 3.41203549e+07,\n",
       "        3.40422378e+07, 3.39644509e+07, 3.38869927e+07, 3.38098618e+07,\n",
       "        3.37330569e+07, 3.36565766e+07, 3.35804195e+07, 3.35045842e+07,\n",
       "        3.34290694e+07, 3.33538737e+07, 3.32789958e+07, 3.32044343e+07,\n",
       "        3.31301880e+07, 3.30562554e+07, 3.29826352e+07, 3.29093261e+07,\n",
       "        3.28363269e+07, 3.27636361e+07, 3.26912526e+07, 3.26191749e+07,\n",
       "        3.25474019e+07, 3.24759321e+07, 3.24047644e+07, 3.23338974e+07,\n",
       "        3.22633299e+07, 3.21930607e+07, 3.21230883e+07, 3.20534117e+07,\n",
       "        3.19840296e+07, 3.19149406e+07, 3.18461437e+07, 3.17776374e+07,\n",
       "        3.17094207e+07, 3.16414923e+07, 3.15738509e+07, 3.15064953e+07,\n",
       "        3.14394245e+07, 3.13726370e+07, 3.13061318e+07, 3.12399077e+07,\n",
       "        3.11739634e+07, 3.11082978e+07, 3.10429097e+07, 3.09777979e+07,\n",
       "        3.09129613e+07, 3.08483987e+07, 3.07841089e+07, 3.07200908e+07,\n",
       "        3.06563433e+07, 3.05928651e+07, 3.05296552e+07, 3.04667125e+07,\n",
       "        3.04040357e+07, 3.03416238e+07, 3.02794757e+07, 3.02175902e+07,\n",
       "        3.01559662e+07, 3.00946026e+07, 3.00334984e+07, 2.99726524e+07,\n",
       "        2.99120635e+07, 2.98517307e+07, 2.97916528e+07, 2.97318289e+07,\n",
       "        2.96722577e+07, 2.96129383e+07, 2.95538696e+07, 2.94950505e+07,\n",
       "        2.94364800e+07, 2.93781570e+07, 2.93200804e+07, 2.92622493e+07,\n",
       "        2.92046626e+07, 2.91473193e+07, 2.90902183e+07, 2.90333586e+07,\n",
       "        2.89767392e+07, 2.89203590e+07, 2.88642171e+07, 2.88083125e+07,\n",
       "        2.87526441e+07, 2.86972110e+07, 2.86420122e+07, 2.85870466e+07,\n",
       "        2.85323133e+07, 2.84778113e+07, 2.84235396e+07, 2.83694973e+07,\n",
       "        2.83156833e+07, 2.82620968e+07, 2.82087367e+07, 2.81556022e+07,\n",
       "        2.81026921e+07, 2.80500057e+07, 2.79975420e+07, 2.79452999e+07,\n",
       "        2.78932786e+07, 2.78414772e+07, 2.77898946e+07, 2.77385301e+07,\n",
       "        2.76873826e+07, 2.76364513e+07, 2.75857352e+07, 2.75352334e+07,\n",
       "        2.74849451e+07, 2.74348693e+07, 2.73850051e+07, 2.73353516e+07,\n",
       "        2.72859079e+07, 2.72366733e+07, 2.71876466e+07, 2.71388272e+07,\n",
       "        2.70902140e+07, 2.70418064e+07, 2.69936032e+07, 2.69456038e+07,\n",
       "        2.68978072e+07, 2.68502127e+07, 2.68028192e+07, 2.67556261e+07,\n",
       "        2.67086323e+07, 2.66618372e+07, 2.66152398e+07, 2.65688394e+07,\n",
       "        2.65226350e+07, 2.64766259e+07, 2.64308112e+07, 2.63851902e+07,\n",
       "        2.63397619e+07, 2.62945256e+07, 2.62494805e+07, 2.62046258e+07,\n",
       "        2.61599606e+07, 2.61154841e+07, 2.60711956e+07, 2.60270943e+07,\n",
       "        2.59831793e+07, 2.59394500e+07, 2.58959054e+07, 2.58525449e+07,\n",
       "        2.58093676e+07, 2.57663727e+07, 2.57235596e+07, 2.56809274e+07,\n",
       "        2.56384753e+07, 2.55962027e+07, 2.55541087e+07, 2.55121925e+07,\n",
       "        2.54704536e+07, 2.54288910e+07, 2.53875040e+07, 2.53462920e+07,\n",
       "        2.53052541e+07, 2.52643896e+07, 2.52236979e+07, 2.51831781e+07,\n",
       "        2.51428295e+07, 2.51026515e+07, 2.50626432e+07, 2.50228040e+07,\n",
       "        2.49831332e+07, 2.49436300e+07, 2.49042938e+07, 2.48651238e+07,\n",
       "        2.48261193e+07, 2.47872797e+07, 2.47486042e+07, 2.47100921e+07,\n",
       "        2.46717428e+07, 2.46335556e+07, 2.45955297e+07, 2.45576646e+07,\n",
       "        2.45199594e+07, 2.44824136e+07, 2.44450265e+07, 2.44077973e+07,\n",
       "        2.43707255e+07, 2.43338104e+07, 2.42970512e+07, 2.42604475e+07,\n",
       "        2.42239983e+07, 2.41877033e+07, 2.41515616e+07, 2.41155726e+07,\n",
       "        2.40797358e+07, 2.40440503e+07, 2.40085157e+07, 2.39731313e+07,\n",
       "        2.39378964e+07, 2.39028104e+07, 2.38678726e+07, 2.38330825e+07,\n",
       "        2.37984395e+07, 2.37639428e+07, 2.37295919e+07, 2.36953862e+07,\n",
       "        2.36613251e+07, 2.36274078e+07, 2.35936340e+07, 2.35600028e+07,\n",
       "        2.35265138e+07, 2.34931663e+07, 2.34599597e+07, 2.34268934e+07,\n",
       "        2.33939669e+07, 2.33611796e+07, 2.33285308e+07, 2.32960199e+07,\n",
       "        2.32636465e+07, 2.32314099e+07, 2.31993095e+07, 2.31673447e+07,\n",
       "        2.31355151e+07, 2.31038199e+07, 2.30722587e+07, 2.30408309e+07,\n",
       "        2.30095359e+07, 2.29783731e+07, 2.29473421e+07, 2.29164421e+07,\n",
       "        2.28856728e+07, 2.28550335e+07, 2.28245237e+07, 2.27941428e+07,\n",
       "        2.27638903e+07, 2.27337656e+07, 2.27037682e+07, 2.26738977e+07,\n",
       "        2.26441533e+07, 2.26145347e+07, 2.25850412e+07, 2.25556723e+07,\n",
       "        2.25264276e+07, 2.24973064e+07, 2.24683084e+07, 2.24394328e+07,\n",
       "        2.24106793e+07, 2.23820473e+07, 2.23535363e+07, 2.23251458e+07,\n",
       "        2.22968753e+07, 2.22687243e+07, 2.22406922e+07, 2.22127785e+07,\n",
       "        2.21849829e+07, 2.21573047e+07, 2.21297434e+07, 2.21022987e+07,\n",
       "        2.20749699e+07, 2.20477566e+07, 2.20206583e+07, 2.19936746e+07,\n",
       "        2.19668049e+07, 2.19400487e+07, 2.19134056e+07, 2.18868751e+07,\n",
       "        2.18604567e+07, 2.18341499e+07, 2.18079543e+07, 2.17818694e+07,\n",
       "        2.17558948e+07, 2.17300299e+07, 2.17042744e+07, 2.16786276e+07,\n",
       "        2.16530893e+07, 2.16276589e+07, 2.16023359e+07, 2.15771200e+07,\n",
       "        2.15520106e+07, 2.15270074e+07, 2.15021098e+07, 2.14773174e+07,\n",
       "        2.14526298e+07, 2.14280465e+07, 2.14035671e+07, 2.13791912e+07,\n",
       "        2.13549182e+07, 2.13307479e+07, 2.13066797e+07, 2.12827132e+07,\n",
       "        2.12588480e+07, 2.12350836e+07, 2.12114197e+07, 2.11878558e+07,\n",
       "        2.11643914e+07, 2.11410263e+07, 2.11177598e+07, 2.10945917e+07,\n",
       "        2.10715215e+07, 2.10485488e+07, 2.10256731e+07, 2.10028942e+07,\n",
       "        2.09802115e+07, 2.09576246e+07, 2.09351333e+07, 2.09127369e+07,\n",
       "        2.08904352e+07, 2.08682278e+07, 2.08461142e+07, 2.08240940e+07,\n",
       "        2.08021670e+07, 2.07803325e+07, 2.07585904e+07, 2.07369401e+07,\n",
       "        2.07153813e+07, 2.06939137e+07, 2.06725367e+07, 2.06512501e+07,\n",
       "        2.06300535e+07, 2.06089464e+07, 2.05879285e+07, 2.05669995e+07,\n",
       "        2.05461589e+07, 2.05254063e+07, 2.05047415e+07, 2.04841640e+07,\n",
       "        2.04636735e+07, 2.04432695e+07, 2.04229518e+07, 2.04027199e+07,\n",
       "        2.03825736e+07, 2.03625123e+07, 2.03425359e+07, 2.03226439e+07,\n",
       "        2.03028359e+07, 2.02831117e+07, 2.02634708e+07, 2.02439129e+07,\n",
       "        2.02244376e+07, 2.02050447e+07, 2.01857337e+07, 2.01665043e+07,\n",
       "        2.01473562e+07, 2.01282890e+07, 2.01093024e+07, 2.00903960e+07,\n",
       "        2.00715695e+07, 2.00528226e+07, 2.00341549e+07, 2.00155661e+07,\n",
       "        1.99970559e+07, 1.99786239e+07, 1.99602697e+07, 1.99419932e+07,\n",
       "        1.99237938e+07, 1.99056714e+07, 1.98876256e+07, 1.98696560e+07,\n",
       "        1.98517624e+07, 1.98339443e+07, 1.98162016e+07, 1.97985339e+07,\n",
       "        1.97809408e+07, 1.97634221e+07, 1.97459774e+07, 1.97286064e+07,\n",
       "        1.97113089e+07, 1.96940844e+07, 1.96769327e+07, 1.96598536e+07,\n",
       "        1.96428466e+07, 1.96259114e+07, 1.96090478e+07, 1.95922555e+07,\n",
       "        1.95755342e+07, 1.95588835e+07, 1.95423032e+07, 1.95257930e+07,\n",
       "        1.95093525e+07, 1.94929815e+07, 1.94766797e+07, 1.94604468e+07,\n",
       "        1.94442825e+07, 1.94281865e+07, 1.94121585e+07, 1.93961982e+07,\n",
       "        1.93803054e+07, 1.93644798e+07, 1.93487210e+07, 1.93330289e+07,\n",
       "        1.93174030e+07, 1.93018432e+07, 1.92863491e+07, 1.92709206e+07,\n",
       "        1.92555572e+07, 1.92402587e+07, 1.92250249e+07, 1.92098555e+07,\n",
       "        1.91947502e+07, 1.91797087e+07, 1.91647308e+07, 1.91498162e+07,\n",
       "        1.91349646e+07, 1.91201757e+07, 1.91054494e+07, 1.90907853e+07,\n",
       "        1.90761832e+07, 1.90616427e+07, 1.90471638e+07, 1.90327460e+07,\n",
       "        1.90183891e+07, 1.90040930e+07, 1.89898572e+07, 1.89756816e+07,\n",
       "        1.89615659e+07, 1.89475098e+07, 1.89335132e+07, 1.89195757e+07,\n",
       "        1.89056971e+07, 1.88918771e+07, 1.88781156e+07, 1.88644122e+07,\n",
       "        1.88507667e+07, 1.88371789e+07, 1.88236485e+07, 1.88101753e+07,\n",
       "        1.87967591e+07, 1.87833995e+07, 1.87700964e+07, 1.87568495e+07,\n",
       "        1.87436586e+07, 1.87305234e+07, 1.87174437e+07, 1.87044193e+07,\n",
       "        1.86914500e+07, 1.86785354e+07, 1.86656755e+07, 1.86528699e+07,\n",
       "        1.86401184e+07, 1.86274208e+07, 1.86147768e+07, 1.86021863e+07,\n",
       "        1.85896490e+07, 1.85771647e+07, 1.85647331e+07, 1.85523540e+07,\n",
       "        1.85400273e+07, 1.85277527e+07, 1.85155299e+07, 1.85033588e+07,\n",
       "        1.84912392e+07, 1.84791707e+07, 1.84671533e+07, 1.84551866e+07,\n",
       "        1.84432705e+07, 1.84314048e+07, 1.84195892e+07, 1.84078236e+07,\n",
       "        1.83961076e+07, 1.83844412e+07, 1.83728241e+07, 1.83612561e+07,\n",
       "        1.83497369e+07, 1.83382665e+07, 1.83268445e+07, 1.83154708e+07,\n",
       "        1.83041451e+07, 1.82928673e+07, 1.82816372e+07, 1.82704545e+07,\n",
       "        1.82593191e+07, 1.82482307e+07, 1.82371893e+07, 1.82261944e+07,\n",
       "        1.82152460e+07, 1.82043439e+07, 1.81934879e+07, 1.81826778e+07,\n",
       "        1.81719133e+07, 1.81611943e+07, 1.81505206e+07, 1.81398921e+07,\n",
       "        1.81293084e+07, 1.81187695e+07, 1.81082751e+07, 1.80978250e+07,\n",
       "        1.80874192e+07, 1.80770573e+07, 1.80667391e+07, 1.80564646e+07,\n",
       "        1.80462335e+07, 1.80360457e+07, 1.80259009e+07, 1.80157989e+07,\n",
       "        1.80057397e+07, 1.79957230e+07, 1.79857486e+07, 1.79758163e+07,\n",
       "        1.79659261e+07, 1.79560776e+07, 1.79462707e+07, 1.79365053e+07,\n",
       "        1.79267812e+07, 1.79170981e+07, 1.79074560e+07, 1.78978546e+07,\n",
       "        1.78882938e+07, 1.78787734e+07, 1.78692932e+07, 1.78598531e+07,\n",
       "        1.78504529e+07, 1.78410924e+07, 1.78317715e+07, 1.78224900e+07,\n",
       "        1.78132476e+07, 1.78040444e+07, 1.77948800e+07, 1.77857544e+07,\n",
       "        1.77766673e+07, 1.77676186e+07, 1.77586082e+07, 1.77496359e+07,\n",
       "        1.77407014e+07, 1.77318048e+07, 1.77229457e+07, 1.77141240e+07,\n",
       "        1.77053397e+07, 1.76965924e+07, 1.76878822e+07, 1.76792087e+07,\n",
       "        1.76705719e+07, 1.76619716e+07, 1.76534076e+07, 1.76448798e+07,\n",
       "        1.76363881e+07, 1.76279322e+07, 1.76195121e+07, 1.76111276e+07,\n",
       "        1.76027785e+07, 1.75944647e+07, 1.75861860e+07, 1.75779423e+07,\n",
       "        1.75697334e+07, 1.75615593e+07, 1.75534197e+07, 1.75453144e+07,\n",
       "        1.75372435e+07, 1.75292066e+07, 1.75212037e+07, 1.75132346e+07,\n",
       "        1.75052992e+07, 1.74973973e+07, 1.74895289e+07, 1.74816936e+07,\n",
       "        1.74738915e+07, 1.74661224e+07, 1.74583861e+07, 1.74506825e+07,\n",
       "        1.74430114e+07, 1.74353728e+07, 1.74277664e+07, 1.74201922e+07,\n",
       "        1.74126500e+07, 1.74051397e+07, 1.73976611e+07, 1.73902141e+07,\n",
       "        1.73827986e+07, 1.73754144e+07, 1.73680614e+07, 1.73607395e+07,\n",
       "        1.73534485e+07, 1.73461884e+07, 1.73389589e+07, 1.73317600e+07,\n",
       "        1.73245915e+07, 1.73174533e+07, 1.73103453e+07, 1.73032673e+07,\n",
       "        1.72962192e+07, 1.72892009e+07, 1.72822123e+07, 1.72752532e+07,\n",
       "        1.72683235e+07, 1.72614231e+07, 1.72545518e+07, 1.72477096e+07,\n",
       "        1.72408963e+07, 1.72341118e+07, 1.72273560e+07, 1.72206287e+07,\n",
       "        1.72139298e+07, 1.72072593e+07, 1.72006169e+07, 1.71940027e+07,\n",
       "        1.71874163e+07, 1.71808578e+07, 1.71743271e+07, 1.71678239e+07,\n",
       "        1.71613482e+07, 1.71548998e+07, 1.71484788e+07, 1.71420848e+07,\n",
       "        1.71357179e+07, 1.71293779e+07, 1.71230646e+07, 1.71167781e+07,\n",
       "        1.71105181e+07, 1.71042846e+07, 1.70980774e+07, 1.70918965e+07,\n",
       "        1.70857416e+07, 1.70796128e+07, 1.70735099e+07, 1.70674328e+07,\n",
       "        1.70613813e+07, 1.70553555e+07, 1.70493550e+07, 1.70433800e+07,\n",
       "        1.70374302e+07, 1.70315055e+07, 1.70256059e+07, 1.70197312e+07,\n",
       "        1.70138814e+07, 1.70080562e+07, 1.70022557e+07, 1.69964797e+07,\n",
       "        1.69907281e+07, 1.69850008e+07, 1.69792977e+07, 1.69736187e+07,\n",
       "        1.69679638e+07, 1.69623327e+07, 1.69567254e+07, 1.69511418e+07,\n",
       "        1.69455818e+07, 1.69400453e+07, 1.69345322e+07, 1.69290424e+07,\n",
       "        1.69235757e+07, 1.69181322e+07, 1.69127117e+07, 1.69073141e+07,\n",
       "        1.69019394e+07, 1.68965873e+07, 1.68912578e+07, 1.68859509e+07,\n",
       "        1.68806664e+07, 1.68754042e+07, 1.68701643e+07, 1.68649465e+07,\n",
       "        1.68597508e+07, 1.68545770e+07, 1.68494251e+07, 1.68442949e+07,\n",
       "        1.68391864e+07, 1.68340996e+07, 1.68290342e+07, 1.68239902e+07,\n",
       "        1.68189676e+07, 1.68139661e+07, 1.68089858e+07, 1.68040266e+07,\n",
       "        1.67990883e+07, 1.67941709e+07, 1.67892742e+07, 1.67843983e+07,\n",
       "        1.67795429e+07, 1.67747081e+07, 1.67698937e+07, 1.67650997e+07,\n",
       "        1.67603259e+07, 1.67555723e+07, 1.67508387e+07, 1.67461252e+07,\n",
       "        1.67414316e+07, 1.67367579e+07, 1.67321038e+07, 1.67274695e+07,\n",
       "        1.67228547e+07, 1.67182595e+07, 1.67136836e+07, 1.67091271e+07,\n",
       "        1.67045899e+07, 1.67000718e+07, 1.66955728e+07, 1.66910929e+07,\n",
       "        1.66866318e+07, 1.66821896e+07, 1.66777662e+07, 1.66733615e+07,\n",
       "        1.66689754e+07, 1.66646078e+07, 1.66602587e+07, 1.66559280e+07,\n",
       "        1.66516156e+07, 1.66473214e+07, 1.66430453e+07, 1.66387873e+07,\n",
       "        1.66345473e+07, 1.66303253e+07, 1.66261210e+07, 1.66219346e+07,\n",
       "        1.66177658e+07, 1.66136146e+07, 1.66094810e+07, 1.66053649e+07,\n",
       "        1.66012661e+07, 1.65971847e+07, 1.65931205e+07, 1.65890735e+07,\n",
       "        1.65850436e+07, 1.65810308e+07, 1.65770348e+07, 1.65730558e+07,\n",
       "        1.65690936e+07, 1.65651481e+07, 1.65612194e+07, 1.65573072e+07,\n",
       "        1.65534115e+07, 1.65495323e+07, 1.65456695e+07, 1.65418230e+07,\n",
       "        1.65379928e+07, 1.65341788e+07, 1.65303809e+07, 1.65265990e+07]))"
      ]
     },
     "execution_count": 9,
     "metadata": {},
     "output_type": "execute_result"
    }
   ],
   "source": [
    "theta_final, cost_history = gradient_descent(X, y, theta, learning_rate, n_iterations)\n",
    "\n",
    "gradient_descent(X, y, theta, learning_rate, n_iterations)"
   ]
  },
  {
   "cell_type": "markdown",
   "metadata": {},
   "source": [
    "**Exercise :** \n",
    "1. Create a ``predictions`` variable that contains model(X, theta_final).\n",
    "2. Use matplotlib to display the x and y scatter plot.\n",
    "3. Use the plot method to display your predictions. \n"
   ]
  },
  {
   "cell_type": "code",
   "execution_count": 10,
   "metadata": {},
   "outputs": [
    {
     "data": {
      "image/png": "[encoded data removed]",
      "text/plain": [
       "<Figure size 432x288 with 1 Axes>"
      ]
     },
     "metadata": {
      "needs_background": "light"
     },
     "output_type": "display_data"
    }
   ],
   "source": [
    "import matplotlib.pyplot as plt \n",
    "\n",
    "predictions = np.dot(X, theta_final)\n",
    "x = X[:, 0]\n",
    "\n",
    "plt.scatter(x, y, color='b')\n",
    "plt.plot(x, predictions, color='r')\n",
    "plt.show()"
   ]
  },
  {
   "cell_type": "markdown",
   "metadata": {},
   "source": [
    "You should have something like this. \n",
    "![](./assets/final_theta.png)"
   ]
  },
  {
   "cell_type": "markdown",
   "metadata": {},
   "source": [
    "If not, change the learning rate and the number of iterations."
   ]
  },
  {
   "cell_type": "markdown",
   "metadata": {},
   "source": [
    "### Learning curves\n",
    "To check if our Gradient Descent algorithm worked well, we observe the evolution of the cost function through iterations. We are supposed to obtain a curve that decreases with each iteration until it stagnates at a minimal level (close to zero). If the curve does not follow this pattern, then the learning_rate step may be too high, we should take a lower step."
   ]
  },
  {
   "cell_type": "code",
   "execution_count": 11,
   "metadata": {},
   "outputs": [
    {
     "data": {
      "image/png": "[encoded data removed]",
      "text/plain": [
       "<Figure size 432x288 with 1 Axes>"
      ]
     },
     "metadata": {
      "needs_background": "light"
     },
     "output_type": "display_data"
    }
   ],
   "source": [
    "plt.plot(cost_history)\n",
    "plt.show()\n"
   ]
  },
  {
   "cell_type": "markdown",
   "metadata": {},
   "source": [
    "You should have something like this: \n",
    "![](./assets/learning_curve.png)"
   ]
  },
  {
   "cell_type": "markdown",
   "metadata": {},
   "source": [
    "On this histogram, we can see that after 400 iterations, the model no longer learns and becomes constant. We can thus redefine the n_iterations to 400"
   ]
  },
  {
   "cell_type": "markdown",
   "metadata": {},
   "source": [
    "### Evaluation\n",
    "\n",
    "To evaluate the real performance of our model with a popular metric (for your boss, client, or colleagues) we can use the coefficient of determination, also known as $R^2$. It comes from the method of least squares. The closer the result is to 1, the better your model is."
   ]
  },
  {
   "cell_type": "code",
   "execution_count": 88,
   "metadata": {},
   "outputs": [],
   "source": [
    "def coef_determination(y, pred):\n",
    "    u = ((y - pred)**2).sum()\n",
    "    v = ((y - y.mean())**2).sum()\n",
    "    return 1 - u/v"
   ]
  },
  {
   "cell_type": "code",
   "execution_count": 89,
   "metadata": {},
   "outputs": [
    {
     "data": {
      "text/plain": [
       "0.9545029311262251"
      ]
     },
     "execution_count": 89,
     "metadata": {},
     "output_type": "execute_result"
    }
   ],
   "source": [
    "coef_determination(y, predictions)"
   ]
  },
  {
   "cell_type": "markdown",
   "metadata": {},
   "source": [
    "### The end\n",
    "Ok ok, you just built your own model of linear regression, do you realize that? \n",
    "This part was a bit theoretical, but it's essential to understand how it works.  \n",
    "![tired.gif](./assets/tired.gif)"
   ]
  }
 ],
 "metadata": {
  "colab": {
   "collapsed_sections": [],
   "name": "Copie de linearregression.ipynb",
   "provenance": []
  },
  "kernelspec": {
   "display_name": "Python 3",
   "language": "python",
   "name": "python3"
  },
  "language_info": {
   "codemirror_mode": {
    "name": "ipython",
    "version": 3
   },
   "file_extension": ".py",
   "mimetype": "text/x-python",
   "name": "python",
   "nbconvert_exporter": "python",
   "pygments_lexer": "ipython3",
   "version": "3.8.8"
  }
 },
 "nbformat": 4,
 "nbformat_minor": 1
}
